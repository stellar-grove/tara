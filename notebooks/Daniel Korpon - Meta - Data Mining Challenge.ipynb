{
 "cells": [
  {
   "attachments": {},
   "cell_type": "markdown",
   "metadata": {},
   "source": [
    "# Meta - Data Mining Challenge\n",
    "Daniel Korpon - Sr. Data Scientist / Applied Mathematician"
   ]
  },
  {
   "attachments": {},
   "cell_type": "markdown",
   "metadata": {},
   "source": [
    "## Overview and Background\n",
    "This notebooks is intended to outline the process and steps I took to complete the data mining challenge."
   ]
  },
  {
   "attachments": {},
   "cell_type": "markdown",
   "metadata": {},
   "source": [
    "## Read Data\n",
    "This next section will pull the data into a data frame and begin cleaning it for analysis."
   ]
  },
  {
   "cell_type": "code",
   "execution_count": 8,
   "metadata": {},
   "outputs": [],
   "source": [
    "import sys; sys.path.append(\"../\")\n",
    "import tara.meta as meta\n",
    "%load_ext autoreload\n",
    "%autoreload 2"
   ]
  },
  {
   "attachments": {},
   "cell_type": "markdown",
   "metadata": {},
   "source": [
    "\n"
   ]
  },
  {
   "cell_type": "code",
   "execution_count": 10,
   "metadata": {},
   "outputs": [],
   "source": [
    "data = meta.process_data()"
   ]
  },
  {
   "cell_type": "code",
   "execution_count": 11,
   "metadata": {},
   "outputs": [
    {
     "data": {
      "text/html": [
       "<div>\n",
       "<style scoped>\n",
       "    .dataframe tbody tr th:only-of-type {\n",
       "        vertical-align: middle;\n",
       "    }\n",
       "\n",
       "    .dataframe tbody tr th {\n",
       "        vertical-align: top;\n",
       "    }\n",
       "\n",
       "    .dataframe thead th {\n",
       "        text-align: right;\n",
       "    }\n",
       "</style>\n",
       "<table border=\"1\" class=\"dataframe\">\n",
       "  <thead>\n",
       "    <tr style=\"text-align: right;\">\n",
       "      <th></th>\n",
       "      <th>Entity</th>\n",
       "      <th>alternative name</th>\n",
       "      <th>records lost</th>\n",
       "      <th>YEAR</th>\n",
       "      <th>story</th>\n",
       "      <th>SECTOR</th>\n",
       "      <th>METHOD</th>\n",
       "      <th>interesting story</th>\n",
       "      <th>DATA SENSITIVITY</th>\n",
       "      <th>DISPLAYED RECORDS</th>\n",
       "      <th>source name</th>\n",
       "      <th>1st source link</th>\n",
       "      <th>2nd source link</th>\n",
       "    </tr>\n",
       "  </thead>\n",
       "  <tbody>\n",
       "    <tr>\n",
       "      <th>1</th>\n",
       "      <td>US Customs and Border Protection</td>\n",
       "      <td>NaN</td>\n",
       "      <td>100000</td>\n",
       "      <td>2019</td>\n",
       "      <td>June 2019. Photos of travellers' faces and lic...</td>\n",
       "      <td>government</td>\n",
       "      <td>hacked</td>\n",
       "      <td>y</td>\n",
       "      <td>2</td>\n",
       "      <td>NaN</td>\n",
       "      <td>Washington Post</td>\n",
       "      <td>https://www.washingtonpost.com/technology/2019...</td>\n",
       "      <td>NaN</td>\n",
       "    </tr>\n",
       "    <tr>\n",
       "      <th>2</th>\n",
       "      <td>Click2Gov</td>\n",
       "      <td>NaN</td>\n",
       "      <td>300000</td>\n",
       "      <td>2018</td>\n",
       "      <td>Dec 2018. Vulnerabilities in Click2Gov, a type...</td>\n",
       "      <td>financial</td>\n",
       "      <td>hacked</td>\n",
       "      <td>NaN</td>\n",
       "      <td>3</td>\n",
       "      <td>NaN</td>\n",
       "      <td>Fortune</td>\n",
       "      <td>http://fortune.com/2018/12/18/click2gov-local-...</td>\n",
       "      <td>NaN</td>\n",
       "    </tr>\n",
       "    <tr>\n",
       "      <th>3</th>\n",
       "      <td>SingHealth</td>\n",
       "      <td>NaN</td>\n",
       "      <td>1500000</td>\n",
       "      <td>2018</td>\n",
       "      <td>July 2018. Hackers stole personal details of 1...</td>\n",
       "      <td>healthcare</td>\n",
       "      <td>hacked</td>\n",
       "      <td>NaN</td>\n",
       "      <td>4</td>\n",
       "      <td>NaN</td>\n",
       "      <td>Straits Times</td>\n",
       "      <td>https://www.straitstimes.com/singapore/persona...</td>\n",
       "      <td>NaN</td>\n",
       "    </tr>\n",
       "    <tr>\n",
       "      <th>4</th>\n",
       "      <td>Quest Diagnostics</td>\n",
       "      <td>NaN</td>\n",
       "      <td>11900000</td>\n",
       "      <td>2019</td>\n",
       "      <td>June 2019. One of the biggest blood testing pr...</td>\n",
       "      <td>healthcare</td>\n",
       "      <td>poor security</td>\n",
       "      <td>NaN</td>\n",
       "      <td>4</td>\n",
       "      <td>NaN</td>\n",
       "      <td>NBC News</td>\n",
       "      <td>https://www.nbcnewyork.com/news/local/Quest-Di...</td>\n",
       "      <td>NaN</td>\n",
       "    </tr>\n",
       "    <tr>\n",
       "      <th>5</th>\n",
       "      <td>Australian National University</td>\n",
       "      <td>NaN</td>\n",
       "      <td>200000</td>\n",
       "      <td>2019</td>\n",
       "      <td>June 2019. A hacker accessed personal informat...</td>\n",
       "      <td>academic</td>\n",
       "      <td>hacked</td>\n",
       "      <td>NaN</td>\n",
       "      <td>4</td>\n",
       "      <td>NaN</td>\n",
       "      <td>Guardian</td>\n",
       "      <td>https://www.theguardian.com/australia-news/201...</td>\n",
       "      <td>NaN</td>\n",
       "    </tr>\n",
       "  </tbody>\n",
       "</table>\n",
       "</div>"
      ],
      "text/plain": [
       "                             Entity alternative name records lost  YEAR  \\\n",
       "1  US Customs and Border Protection              NaN       100000  2019   \n",
       "2                         Click2Gov              NaN       300000  2018   \n",
       "3                        SingHealth              NaN      1500000  2018   \n",
       "4                 Quest Diagnostics              NaN     11900000  2019   \n",
       "5    Australian National University              NaN       200000  2019   \n",
       "\n",
       "                                               story      SECTOR  \\\n",
       "1  June 2019. Photos of travellers' faces and lic...  government   \n",
       "2  Dec 2018. Vulnerabilities in Click2Gov, a type...   financial   \n",
       "3  July 2018. Hackers stole personal details of 1...  healthcare   \n",
       "4  June 2019. One of the biggest blood testing pr...  healthcare   \n",
       "5  June 2019. A hacker accessed personal informat...    academic   \n",
       "\n",
       "          METHOD interesting story DATA SENSITIVITY DISPLAYED RECORDS  \\\n",
       "1         hacked                 y                2               NaN   \n",
       "2         hacked               NaN                3               NaN   \n",
       "3         hacked               NaN                4               NaN   \n",
       "4  poor security               NaN                4               NaN   \n",
       "5         hacked               NaN                4               NaN   \n",
       "\n",
       "       source name                                    1st source link  \\\n",
       "1  Washington Post  https://www.washingtonpost.com/technology/2019...   \n",
       "2          Fortune  http://fortune.com/2018/12/18/click2gov-local-...   \n",
       "3    Straits Times  https://www.straitstimes.com/singapore/persona...   \n",
       "4         NBC News  https://www.nbcnewyork.com/news/local/Quest-Di...   \n",
       "5         Guardian  https://www.theguardian.com/australia-news/201...   \n",
       "\n",
       "  2nd source link  \n",
       "1             NaN  \n",
       "2             NaN  \n",
       "3             NaN  \n",
       "4             NaN  \n",
       "5             NaN  "
      ]
     },
     "execution_count": 11,
     "metadata": {},
     "output_type": "execute_result"
    }
   ],
   "source": [
    "data.head()"
   ]
  },
  {
   "cell_type": "code",
   "execution_count": null,
   "metadata": {},
   "outputs": [],
   "source": []
  }
 ],
 "metadata": {
  "kernelspec": {
   "display_name": "base",
   "language": "python",
   "name": "python3"
  },
  "language_info": {
   "codemirror_mode": {
    "name": "ipython",
    "version": 3
   },
   "file_extension": ".py",
   "mimetype": "text/x-python",
   "name": "python",
   "nbconvert_exporter": "python",
   "pygments_lexer": "ipython3",
   "version": "3.9.13"
  },
  "orig_nbformat": 4
 },
 "nbformat": 4,
 "nbformat_minor": 2
}
