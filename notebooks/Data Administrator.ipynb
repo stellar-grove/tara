{
 "cells": [
  {
   "cell_type": "markdown",
   "metadata": {},
   "source": [
    "# Data Administrator\n",
    "This notebook is used to load data into different locations.  <br>\n",
    "Data locations include, but not limited to:\n",
    "1. Azure Hosted sniffnet server.\n",
    "2. csv files in tara / bitstaemr Stellar Grove Repo\n",
    "3. Stellar Grove SharePoint document lists."
   ]
  },
  {
   "cell_type": "markdown",
   "metadata": {},
   "source": [
    "## Import the Necessary Packages"
   ]
  },
  {
   "cell_type": "code",
   "execution_count": 2,
   "metadata": {},
   "outputs": [],
   "source": [
    "import sys; sys.path.append('..\\..')\n",
    "import pandas as pd\n",
    "import pyodbc as db\n",
    "import sqlalchemy as sa\n",
    "import numpy as np\n",
    "import time\n",
    "import os\n",
    "import tara.stuffs as stuffs\n"
   ]
  },
  {
   "cell_type": "code",
   "execution_count": null,
   "metadata": {},
   "outputs": [],
   "source": []
  }
 ],
 "metadata": {
  "kernelspec": {
   "display_name": "base",
   "language": "python",
   "name": "python3"
  },
  "language_info": {
   "codemirror_mode": {
    "name": "ipython",
    "version": 3
   },
   "file_extension": ".py",
   "mimetype": "text/x-python",
   "name": "python",
   "nbconvert_exporter": "python",
   "pygments_lexer": "ipython3",
   "version": "3.9.7"
  }
 },
 "nbformat": 4,
 "nbformat_minor": 2
}
