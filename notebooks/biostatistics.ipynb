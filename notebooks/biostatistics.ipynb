{
 "cells": [
  {
   "cell_type": "markdown",
   "metadata": {},
   "source": [
    "# Biostatistics\n",
    "This notebook allows you to run the biostatistics class of the simulators module put together by bitstaemr.  Calling this class allows you to create simulations of varying disease states.  As more diseases states are researched they will be added to the simulation."
   ]
  },
  {
   "cell_type": "code",
   "execution_count": 1,
   "metadata": {},
   "outputs": [],
   "source": [
    "# Debugging Purposes\n",
    "%load_ext autoreload\n",
    "%autoreload 2"
   ]
  },
  {
   "cell_type": "markdown",
   "metadata": {},
   "source": [
    "## Import the biostatistics package"
   ]
  },
  {
   "cell_type": "code",
   "execution_count": 3,
   "metadata": {},
   "outputs": [],
   "source": [
    "from bitstaemr import simulators as sims\n",
    "bio = sims.biostats()"
   ]
  },
  {
   "cell_type": "markdown",
   "metadata": {},
   "source": [
    "### Create a Singular Patient"
   ]
  },
  {
   "cell_type": "code",
   "execution_count": 45,
   "metadata": {},
   "outputs": [
    {
     "data": {
      "text/plain": [
       "{'genderValue': 1.0,\n",
       " 'genderName': 'Female',\n",
       " 'age': 46.35,\n",
       " 'birthDate': '1977-09-17',\n",
       " 'systolicBP': 124.64391832370856,\n",
       " 'diastolicBP': 127.08322755543509,\n",
       " 'HDL': 40.69068803639655,\n",
       " 'LDL': 30.345344018198276,\n",
       " 'TRY': 40.345344018198276,\n",
       " 'BMI': 46.58166950757696,\n",
       " 'PhysicalActivity': 3.0,\n",
       " 'HBA1C': 30.33745844098513,\n",
       " 'ORAL': 40.67491688197026,\n",
       " 'FPG': 40.33745844098513,\n",
       " 'PersonalityType': 3,\n",
       " 'PSS': {'total': 13},\n",
       " 'SWLS': {'total': 21},\n",
       " 'STAIS': {'total': 17},\n",
       " 'STAIT': {'total': 9}}"
      ]
     },
     "execution_count": 45,
     "metadata": {},
     "output_type": "execute_result"
    }
   ],
   "source": [
    "patient = bio.createPatient()\n",
    "patient"
   ]
  },
  {
   "cell_type": "markdown",
   "metadata": {},
   "source": [
    "### Create a Cohort of Patients\n",
    "Specify the cohort size in the variable below to build a table of patients."
   ]
  },
  {
   "cell_type": "code",
   "execution_count": 10,
   "metadata": {},
   "outputs": [
    {
     "name": "stdout",
     "output_type": "stream",
     "text": [
      "OK\n"
     ]
    },
    {
     "data": {
      "text/html": [
       "<div>\n",
       "<style scoped>\n",
       "    .dataframe tbody tr th:only-of-type {\n",
       "        vertical-align: middle;\n",
       "    }\n",
       "\n",
       "    .dataframe tbody tr th {\n",
       "        vertical-align: top;\n",
       "    }\n",
       "\n",
       "    .dataframe thead th {\n",
       "        text-align: right;\n",
       "    }\n",
       "</style>\n",
       "<table border=\"1\" class=\"dataframe\">\n",
       "  <thead>\n",
       "    <tr style=\"text-align: right;\">\n",
       "      <th></th>\n",
       "      <th>genderValue</th>\n",
       "      <th>genderName</th>\n",
       "      <th>age</th>\n",
       "      <th>birthDate</th>\n",
       "      <th>systolicBP</th>\n",
       "      <th>diastolicBP</th>\n",
       "      <th>HDL</th>\n",
       "      <th>LDL</th>\n",
       "      <th>TRY</th>\n",
       "      <th>BMI</th>\n",
       "      <th>PhysicalActivity</th>\n",
       "      <th>HBA1C</th>\n",
       "      <th>ORAL</th>\n",
       "      <th>FPG</th>\n",
       "      <th>PersonalityType</th>\n",
       "    </tr>\n",
       "  </thead>\n",
       "  <tbody>\n",
       "    <tr>\n",
       "      <th>0</th>\n",
       "      <td>1.0</td>\n",
       "      <td>Female</td>\n",
       "      <td>27.53</td>\n",
       "      <td>1996-07-11</td>\n",
       "      <td>119.248469</td>\n",
       "      <td>125.652911</td>\n",
       "      <td>77.678066</td>\n",
       "      <td>33.839033</td>\n",
       "      <td>38.839033</td>\n",
       "      <td>27.607153</td>\n",
       "      <td>3.0</td>\n",
       "      <td>49.410784</td>\n",
       "      <td>108.821568</td>\n",
       "      <td>54.410784</td>\n",
       "      <td>2</td>\n",
       "    </tr>\n",
       "    <tr>\n",
       "      <th>0</th>\n",
       "      <td>1.0</td>\n",
       "      <td>Female</td>\n",
       "      <td>38.71</td>\n",
       "      <td>1985-05-08</td>\n",
       "      <td>131.153344</td>\n",
       "      <td>118.629033</td>\n",
       "      <td>88.140418</td>\n",
       "      <td>39.070209</td>\n",
       "      <td>44.070209</td>\n",
       "      <td>30.331582</td>\n",
       "      <td>5.0</td>\n",
       "      <td>14.535062</td>\n",
       "      <td>39.070123</td>\n",
       "      <td>19.535062</td>\n",
       "      <td>0</td>\n",
       "    </tr>\n",
       "    <tr>\n",
       "      <th>0</th>\n",
       "      <td>0.0</td>\n",
       "      <td>Male</td>\n",
       "      <td>20.67</td>\n",
       "      <td>2003-05-24</td>\n",
       "      <td>109.219552</td>\n",
       "      <td>34.879894</td>\n",
       "      <td>90.660121</td>\n",
       "      <td>25.16503</td>\n",
       "      <td>40.330061</td>\n",
       "      <td>27.952797</td>\n",
       "      <td>2.0</td>\n",
       "      <td>24.623542</td>\n",
       "      <td>88.494168</td>\n",
       "      <td>39.247084</td>\n",
       "      <td>0</td>\n",
       "    </tr>\n",
       "    <tr>\n",
       "      <th>0</th>\n",
       "      <td>1.0</td>\n",
       "      <td>Female</td>\n",
       "      <td>64.84</td>\n",
       "      <td>1959-03-21</td>\n",
       "      <td>116.611806</td>\n",
       "      <td>130.044518</td>\n",
       "      <td>59.116185</td>\n",
       "      <td>39.558092</td>\n",
       "      <td>49.558092</td>\n",
       "      <td>34.363962</td>\n",
       "      <td>5.0</td>\n",
       "      <td>50.72274</td>\n",
       "      <td>81.44548</td>\n",
       "      <td>60.72274</td>\n",
       "      <td>0</td>\n",
       "    </tr>\n",
       "    <tr>\n",
       "      <th>0</th>\n",
       "      <td>1.0</td>\n",
       "      <td>Female</td>\n",
       "      <td>47.31</td>\n",
       "      <td>1976-10-01</td>\n",
       "      <td>120.18565</td>\n",
       "      <td>115.665404</td>\n",
       "      <td>74.946876</td>\n",
       "      <td>47.473438</td>\n",
       "      <td>57.473438</td>\n",
       "      <td>33.541171</td>\n",
       "      <td>3.0</td>\n",
       "      <td>43.990169</td>\n",
       "      <td>67.980338</td>\n",
       "      <td>53.990169</td>\n",
       "      <td>3</td>\n",
       "    </tr>\n",
       "  </tbody>\n",
       "</table>\n",
       "</div>"
      ],
      "text/plain": [
       "  genderValue genderName    age   birthDate  systolicBP diastolicBP  \\\n",
       "0         1.0     Female  27.53  1996-07-11  119.248469  125.652911   \n",
       "0         1.0     Female  38.71  1985-05-08  131.153344  118.629033   \n",
       "0         0.0       Male  20.67  2003-05-24  109.219552   34.879894   \n",
       "0         1.0     Female  64.84  1959-03-21  116.611806  130.044518   \n",
       "0         1.0     Female  47.31  1976-10-01   120.18565  115.665404   \n",
       "\n",
       "         HDL        LDL        TRY        BMI PhysicalActivity      HBA1C  \\\n",
       "0  77.678066  33.839033  38.839033  27.607153              3.0  49.410784   \n",
       "0  88.140418  39.070209  44.070209  30.331582              5.0  14.535062   \n",
       "0  90.660121   25.16503  40.330061  27.952797              2.0  24.623542   \n",
       "0  59.116185  39.558092  49.558092  34.363962              5.0   50.72274   \n",
       "0  74.946876  47.473438  57.473438  33.541171              3.0  43.990169   \n",
       "\n",
       "         ORAL        FPG PersonalityType  \n",
       "0  108.821568  54.410784               2  \n",
       "0   39.070123  19.535062               0  \n",
       "0   88.494168  39.247084               0  \n",
       "0    81.44548   60.72274               0  \n",
       "0   67.980338  53.990169               3  "
      ]
     },
     "execution_count": 10,
     "metadata": {},
     "output_type": "execute_result"
    }
   ],
   "source": [
    "cohortSize = 1000\n",
    "cohort = bio.createCohort(cohortSize)\n",
    "cohort.head()"
   ]
  },
  {
   "cell_type": "code",
   "execution_count": 11,
   "metadata": {},
   "outputs": [
    {
     "data": {
      "text/html": [
       "<div>\n",
       "<style scoped>\n",
       "    .dataframe tbody tr th:only-of-type {\n",
       "        vertical-align: middle;\n",
       "    }\n",
       "\n",
       "    .dataframe tbody tr th {\n",
       "        vertical-align: top;\n",
       "    }\n",
       "\n",
       "    .dataframe thead th {\n",
       "        text-align: right;\n",
       "    }\n",
       "</style>\n",
       "<table border=\"1\" class=\"dataframe\">\n",
       "  <thead>\n",
       "    <tr style=\"text-align: right;\">\n",
       "      <th></th>\n",
       "      <th>genderValue</th>\n",
       "      <th>genderName</th>\n",
       "      <th>age</th>\n",
       "      <th>birthDate</th>\n",
       "      <th>systolicBP</th>\n",
       "      <th>diastolicBP</th>\n",
       "      <th>HDL</th>\n",
       "      <th>LDL</th>\n",
       "      <th>TRY</th>\n",
       "      <th>BMI</th>\n",
       "      <th>PhysicalActivity</th>\n",
       "      <th>HBA1C</th>\n",
       "      <th>ORAL</th>\n",
       "      <th>FPG</th>\n",
       "      <th>PersonalityType</th>\n",
       "    </tr>\n",
       "  </thead>\n",
       "  <tbody>\n",
       "    <tr>\n",
       "      <th>0</th>\n",
       "      <td>1.0</td>\n",
       "      <td>Female</td>\n",
       "      <td>60.0</td>\n",
       "      <td>1964-01-23</td>\n",
       "      <td>112.244645</td>\n",
       "      <td>103.741176</td>\n",
       "      <td>76.357464</td>\n",
       "      <td>48.178732</td>\n",
       "      <td>58.178732</td>\n",
       "      <td>42.239067</td>\n",
       "      <td>2.0</td>\n",
       "      <td>41.211979</td>\n",
       "      <td>62.423958</td>\n",
       "      <td>51.211979</td>\n",
       "      <td>1</td>\n",
       "    </tr>\n",
       "    <tr>\n",
       "      <th>0</th>\n",
       "      <td>1.0</td>\n",
       "      <td>Female</td>\n",
       "      <td>34.13</td>\n",
       "      <td>1989-12-06</td>\n",
       "      <td>119.380312</td>\n",
       "      <td>117.067471</td>\n",
       "      <td>99.287599</td>\n",
       "      <td>44.6438</td>\n",
       "      <td>49.6438</td>\n",
       "      <td>30.512116</td>\n",
       "      <td>3.0</td>\n",
       "      <td>12.749209</td>\n",
       "      <td>35.498418</td>\n",
       "      <td>17.749209</td>\n",
       "      <td>0</td>\n",
       "    </tr>\n",
       "    <tr>\n",
       "      <th>0</th>\n",
       "      <td>0.0</td>\n",
       "      <td>Male</td>\n",
       "      <td>59.52</td>\n",
       "      <td>1964-07-17</td>\n",
       "      <td>118.271049</td>\n",
       "      <td>85.061832</td>\n",
       "      <td>35.475865</td>\n",
       "      <td>8.868966</td>\n",
       "      <td>37.737933</td>\n",
       "      <td>15.672069</td>\n",
       "      <td>6.0</td>\n",
       "      <td>26.314054</td>\n",
       "      <td>105.256217</td>\n",
       "      <td>72.628109</td>\n",
       "      <td>0</td>\n",
       "    </tr>\n",
       "    <tr>\n",
       "      <th>0</th>\n",
       "      <td>0.0</td>\n",
       "      <td>Male</td>\n",
       "      <td>60.62</td>\n",
       "      <td>1963-06-12</td>\n",
       "      <td>114.788827</td>\n",
       "      <td>43.982352</td>\n",
       "      <td>79.561443</td>\n",
       "      <td>19.890361</td>\n",
       "      <td>59.780722</td>\n",
       "      <td>13.27482</td>\n",
       "      <td>6.0</td>\n",
       "      <td>22.553938</td>\n",
       "      <td>90.215752</td>\n",
       "      <td>65.107876</td>\n",
       "      <td>1</td>\n",
       "    </tr>\n",
       "    <tr>\n",
       "      <th>0</th>\n",
       "      <td>1.0</td>\n",
       "      <td>Female</td>\n",
       "      <td>47.12</td>\n",
       "      <td>1976-12-09</td>\n",
       "      <td>110.508123</td>\n",
       "      <td>131.294764</td>\n",
       "      <td>78.262906</td>\n",
       "      <td>49.131453</td>\n",
       "      <td>59.131453</td>\n",
       "      <td>30.361118</td>\n",
       "      <td>5.0</td>\n",
       "      <td>54.464268</td>\n",
       "      <td>88.928537</td>\n",
       "      <td>64.464268</td>\n",
       "      <td>3</td>\n",
       "    </tr>\n",
       "  </tbody>\n",
       "</table>\n",
       "</div>"
      ],
      "text/plain": [
       "  genderValue genderName    age   birthDate  systolicBP diastolicBP  \\\n",
       "0         1.0     Female   60.0  1964-01-23  112.244645  103.741176   \n",
       "0         1.0     Female  34.13  1989-12-06  119.380312  117.067471   \n",
       "0         0.0       Male  59.52  1964-07-17  118.271049   85.061832   \n",
       "0         0.0       Male  60.62  1963-06-12  114.788827   43.982352   \n",
       "0         1.0     Female  47.12  1976-12-09  110.508123  131.294764   \n",
       "\n",
       "         HDL        LDL        TRY        BMI PhysicalActivity      HBA1C  \\\n",
       "0  76.357464  48.178732  58.178732  42.239067              2.0  41.211979   \n",
       "0  99.287599    44.6438    49.6438  30.512116              3.0  12.749209   \n",
       "0  35.475865   8.868966  37.737933  15.672069              6.0  26.314054   \n",
       "0  79.561443  19.890361  59.780722   13.27482              6.0  22.553938   \n",
       "0  78.262906  49.131453  59.131453  30.361118              5.0  54.464268   \n",
       "\n",
       "         ORAL        FPG PersonalityType  \n",
       "0   62.423958  51.211979               1  \n",
       "0   35.498418  17.749209               0  \n",
       "0  105.256217  72.628109               0  \n",
       "0   90.215752  65.107876               1  \n",
       "0   88.928537  64.464268               3  "
      ]
     },
     "execution_count": 11,
     "metadata": {},
     "output_type": "execute_result"
    }
   ],
   "source": [
    "bio.data[\"cohort\"].head()"
   ]
  },
  {
   "cell_type": "markdown",
   "metadata": {},
   "source": [
    "### Choose a specific feature to view its distribution"
   ]
  },
  {
   "cell_type": "code",
   "execution_count": 26,
   "metadata": {},
   "outputs": [
    {
     "data": {
      "text/plain": [
       "<AxesSubplot:>"
      ]
     },
     "execution_count": 26,
     "metadata": {},
     "output_type": "execute_result"
    },
    {
     "data": {
      "image/png": "[encoded data removed]",
      "text/plain": [
       "<Figure size 640x480 with 1 Axes>"
      ]
     },
     "metadata": {},
     "output_type": "display_data"
    }
   ],
   "source": [
    "variable = \"FPG\"\n",
    "cohort[variable].hist()"
   ]
  },
  {
   "cell_type": "code",
   "execution_count": null,
   "metadata": {},
   "outputs": [],
   "source": []
  }
 ],
 "metadata": {
  "kernelspec": {
   "display_name": "base",
   "language": "python",
   "name": "python3"
  },
  "language_info": {
   "codemirror_mode": {
    "name": "ipython",
    "version": 3
   },
   "file_extension": ".py",
   "mimetype": "text/x-python",
   "name": "python",
   "nbconvert_exporter": "python",
   "pygments_lexer": "ipython3",
   "version": "3.9.13"
  }
 },
 "nbformat": 4,
 "nbformat_minor": 2
}
