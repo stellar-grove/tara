{
 "cells": [
  {
   "attachments": {},
   "cell_type": "markdown",
   "metadata": {},
   "source": [
    "# Irrigation Methods\n",
    "This notebook can be run to recreate the analysis done to study irrigation methods."
   ]
  },
  {
   "attachments": {},
   "cell_type": "markdown",
   "metadata": {},
   "source": [
    "Import the library to run the experiments and initiate the classes."
   ]
  },
  {
   "cell_type": "code",
   "execution_count": 1,
   "metadata": {},
   "outputs": [],
   "source": [
    "import sys; sys.path.append(\"../../../\")\n",
    "import tara.SongroveBotanicals.research as hub\n",
    "irrigation = hub.Irrigation()\n",
    "%matplotlib inline"
   ]
  },
  {
   "attachments": {},
   "cell_type": "markdown",
   "metadata": {},
   "source": [
    "### Load the Data\n",
    "Run the cells below to run the data gathered for the experiment.  For more on how the data was collected see https://www.stellargrove.com/irrigation-methods.  The data returned is broken into two dataframes: yield and growth rate."
   ]
  },
  {
   "cell_type": "code",
   "execution_count": 2,
   "metadata": {},
   "outputs": [],
   "source": [
    "df_Yield, df_GrowthRate = irrigation.loadData()\n"
   ]
  },
  {
   "cell_type": "markdown",
   "metadata": {},
   "source": [
    "## Examine the Data \n",
    "Run this cell if you want to see what it looks like after being transformed into a usable state."
   ]
  },
  {
   "cell_type": "code",
   "execution_count": 3,
   "metadata": {},
   "outputs": [
    {
     "data": {
      "text/html": [
       "<div>\n",
       "<style scoped>\n",
       "    .dataframe tbody tr th:only-of-type {\n",
       "        vertical-align: middle;\n",
       "    }\n",
       "\n",
       "    .dataframe tbody tr th {\n",
       "        vertical-align: top;\n",
       "    }\n",
       "\n",
       "    .dataframe thead th {\n",
       "        text-align: right;\n",
       "    }\n",
       "</style>\n",
       "<table border=\"1\" class=\"dataframe\">\n",
       "  <thead>\n",
       "    <tr style=\"text-align: right;\">\n",
       "      <th>IrrigationType</th>\n",
       "      <th>Drip</th>\n",
       "      <th>Flood</th>\n",
       "      <th>Furrow</th>\n",
       "      <th>Sprinkler</th>\n",
       "    </tr>\n",
       "    <tr>\n",
       "      <th>TrialNumber</th>\n",
       "      <th></th>\n",
       "      <th></th>\n",
       "      <th></th>\n",
       "      <th></th>\n",
       "    </tr>\n",
       "  </thead>\n",
       "  <tbody>\n",
       "    <tr>\n",
       "      <th>1</th>\n",
       "      <td>10.2</td>\n",
       "      <td>9.8</td>\n",
       "      <td>9.6</td>\n",
       "      <td>8.9</td>\n",
       "    </tr>\n",
       "    <tr>\n",
       "      <th>2</th>\n",
       "      <td>11.5</td>\n",
       "      <td>10.1</td>\n",
       "      <td>9.8</td>\n",
       "      <td>9.1</td>\n",
       "    </tr>\n",
       "    <tr>\n",
       "      <th>3</th>\n",
       "      <td>12.3</td>\n",
       "      <td>10.2</td>\n",
       "      <td>9.9</td>\n",
       "      <td>8.8</td>\n",
       "    </tr>\n",
       "    <tr>\n",
       "      <th>4</th>\n",
       "      <td>11.8</td>\n",
       "      <td>10.5</td>\n",
       "      <td>9.7</td>\n",
       "      <td>9.5</td>\n",
       "    </tr>\n",
       "    <tr>\n",
       "      <th>5</th>\n",
       "      <td>10.9</td>\n",
       "      <td>9.7</td>\n",
       "      <td>9.4</td>\n",
       "      <td>8.7</td>\n",
       "    </tr>\n",
       "  </tbody>\n",
       "</table>\n",
       "</div>"
      ],
      "text/plain": [
       "IrrigationType  Drip  Flood  Furrow  Sprinkler\n",
       "TrialNumber                                   \n",
       "1               10.2    9.8     9.6        8.9\n",
       "2               11.5   10.1     9.8        9.1\n",
       "3               12.3   10.2     9.9        8.8\n",
       "4               11.8   10.5     9.7        9.5\n",
       "5               10.9    9.7     9.4        8.7"
      ]
     },
     "execution_count": 3,
     "metadata": {},
     "output_type": "execute_result"
    }
   ],
   "source": [
    "df_Yield.head()"
   ]
  },
  {
   "attachments": {},
   "cell_type": "markdown",
   "metadata": {},
   "source": [
    "## First: Examine the Yield of the different methods\n"
   ]
  },
  {
   "attachments": {},
   "cell_type": "markdown",
   "metadata": {},
   "source": [
    "To begin we will take a quick visual representation of what the data looks like in order to understand whether or not our initial hypothesis looks like it will hold true or not."
   ]
  },
  {
   "attachments": {},
   "cell_type": "markdown",
   "metadata": {},
   "source": [
    "### Yield Box Plots\n",
    "Running the cell below will create a simple box plot for you to view how the data is distributed amongst the different irrigation methods. "
   ]
  },
  {
   "cell_type": "code",
   "execution_count": 4,
   "metadata": {},
   "outputs": [
    {
     "data": {
      "text/plain": [
       "<AxesSubplot:>"
      ]
     },
     "execution_count": 4,
     "metadata": {},
     "output_type": "execute_result"
    },
    {
     "data": {
      "image/png": "[encoded data removed]",
      "text/plain": [
       "<Figure size 640x480 with 1 Axes>"
      ]
     },
     "metadata": {},
     "output_type": "display_data"
    }
   ],
   "source": [
    "df_Yield.boxplot(grid=False)"
   ]
  },
  {
   "attachments": {},
   "cell_type": "markdown",
   "metadata": {},
   "source": [
    "Now that a visual representation has been established let's use stats to ensure that our intuition holds up to mathematical rigor.\n",
    "\n",
    "### Calculate the Mean Yield\n",
    "For each of the different Irrigation Methods, calculate the mean yield of the crop grown.  The mean along with the Standard Deviation will give us an idea of whether or not we can make claims that one method is better than another."
   ]
  },
  {
   "cell_type": "code",
   "execution_count": 5,
   "metadata": {},
   "outputs": [
    {
     "data": {
      "text/html": [
       "<div>\n",
       "<style scoped>\n",
       "    .dataframe tbody tr th:only-of-type {\n",
       "        vertical-align: middle;\n",
       "    }\n",
       "\n",
       "    .dataframe tbody tr th {\n",
       "        vertical-align: top;\n",
       "    }\n",
       "\n",
       "    .dataframe thead th {\n",
       "        text-align: right;\n",
       "    }\n",
       "</style>\n",
       "<table border=\"1\" class=\"dataframe\">\n",
       "  <thead>\n",
       "    <tr style=\"text-align: right;\">\n",
       "      <th></th>\n",
       "      <th>Method</th>\n",
       "      <th>AverageYield</th>\n",
       "    </tr>\n",
       "  </thead>\n",
       "  <tbody>\n",
       "    <tr>\n",
       "      <th>0</th>\n",
       "      <td>Drip</td>\n",
       "      <td>11.47</td>\n",
       "    </tr>\n",
       "    <tr>\n",
       "      <th>1</th>\n",
       "      <td>Flood</td>\n",
       "      <td>10.05</td>\n",
       "    </tr>\n",
       "    <tr>\n",
       "      <th>2</th>\n",
       "      <td>Furrow</td>\n",
       "      <td>9.63</td>\n",
       "    </tr>\n",
       "    <tr>\n",
       "      <th>3</th>\n",
       "      <td>Sprinkler</td>\n",
       "      <td>9.02</td>\n",
       "    </tr>\n",
       "  </tbody>\n",
       "</table>\n",
       "</div>"
      ],
      "text/plain": [
       "      Method  AverageYield\n",
       "0       Drip         11.47\n",
       "1      Flood         10.05\n",
       "2     Furrow          9.63\n",
       "3  Sprinkler          9.02"
      ]
     },
     "execution_count": 5,
     "metadata": {},
     "output_type": "execute_result"
    }
   ],
   "source": [
    "yields = irrigation.calculateMeans(df_Yield,sort_order=\"d\")\n",
    "yields"
   ]
  },
  {
   "attachments": {},
   "cell_type": "markdown",
   "metadata": {},
   "source": [
    "### Write Out Hypothesis\n",
    "Looking at the means, it is natural to rank the effectiveness of the methods as:\n",
    "<ol>\n",
    "    <li>Drip\n",
    "    <li>Flood\n",
    "    <li>Furrow\n",
    "    <li>Sprinkler\n",
    "</ol>\n",
    "\n",
    "In the next section we will use ANOVA analysis to confirm our assumptions."
   ]
  },
  {
   "cell_type": "code",
   "execution_count": 7,
   "metadata": {},
   "outputs": [
    {
     "name": "stdout",
     "output_type": "stream",
     "text": [
      "65.4732517189334 1.18861600663583e-14\n"
     ]
    }
   ],
   "source": [
    "f_Yield, p_Yield = irrigation.runANOVA(df_Yield)\n",
    "print(f_Yield, p_Yield)"
   ]
  },
  {
   "cell_type": "code",
   "execution_count": 8,
   "metadata": {},
   "outputs": [
    {
     "data": {
      "text/html": [
       "<div>\n",
       "<style scoped>\n",
       "    .dataframe tbody tr th:only-of-type {\n",
       "        vertical-align: middle;\n",
       "    }\n",
       "\n",
       "    .dataframe tbody tr th {\n",
       "        vertical-align: top;\n",
       "    }\n",
       "\n",
       "    .dataframe thead th {\n",
       "        text-align: right;\n",
       "    }\n",
       "</style>\n",
       "<table border=\"1\" class=\"dataframe\">\n",
       "  <thead>\n",
       "    <tr style=\"text-align: right;\">\n",
       "      <th></th>\n",
       "      <th>Method 1</th>\n",
       "      <th>Method 2</th>\n",
       "      <th>Mean 1</th>\n",
       "      <th>Mean 2</th>\n",
       "      <th>TestStat</th>\n",
       "      <th>p-value</th>\n",
       "      <th>pValSig</th>\n",
       "    </tr>\n",
       "  </thead>\n",
       "  <tbody>\n",
       "    <tr>\n",
       "      <th>5</th>\n",
       "      <td>Furrow</td>\n",
       "      <td>Sprinkler</td>\n",
       "      <td>9.63</td>\n",
       "      <td>9.02</td>\n",
       "      <td>6.110192</td>\n",
       "      <td>0.000009</td>\n",
       "      <td>True</td>\n",
       "    </tr>\n",
       "    <tr>\n",
       "      <th>3</th>\n",
       "      <td>Flood</td>\n",
       "      <td>Furrow</td>\n",
       "      <td>10.05</td>\n",
       "      <td>9.63</td>\n",
       "      <td>3.722016</td>\n",
       "      <td>0.001560</td>\n",
       "      <td>True</td>\n",
       "    </tr>\n",
       "    <tr>\n",
       "      <th>4</th>\n",
       "      <td>Flood</td>\n",
       "      <td>Sprinkler</td>\n",
       "      <td>10.05</td>\n",
       "      <td>9.02</td>\n",
       "      <td>8.255425</td>\n",
       "      <td>0.000000</td>\n",
       "      <td>True</td>\n",
       "    </tr>\n",
       "    <tr>\n",
       "      <th>0</th>\n",
       "      <td>Drip</td>\n",
       "      <td>Flood</td>\n",
       "      <td>11.47</td>\n",
       "      <td>10.05</td>\n",
       "      <td>5.985177</td>\n",
       "      <td>0.000012</td>\n",
       "      <td>True</td>\n",
       "    </tr>\n",
       "    <tr>\n",
       "      <th>1</th>\n",
       "      <td>Drip</td>\n",
       "      <td>Furrow</td>\n",
       "      <td>11.47</td>\n",
       "      <td>9.63</td>\n",
       "      <td>8.172622</td>\n",
       "      <td>0.000000</td>\n",
       "      <td>True</td>\n",
       "    </tr>\n",
       "    <tr>\n",
       "      <th>2</th>\n",
       "      <td>Drip</td>\n",
       "      <td>Sprinkler</td>\n",
       "      <td>11.47</td>\n",
       "      <td>9.02</td>\n",
       "      <td>10.590075</td>\n",
       "      <td>0.000000</td>\n",
       "      <td>True</td>\n",
       "    </tr>\n",
       "  </tbody>\n",
       "</table>\n",
       "</div>"
      ],
      "text/plain": [
       "  Method 1   Method 2  Mean 1  Mean 2   TestStat   p-value  pValSig\n",
       "5   Furrow  Sprinkler    9.63    9.02   6.110192  0.000009     True\n",
       "3    Flood     Furrow   10.05    9.63   3.722016  0.001560     True\n",
       "4    Flood  Sprinkler   10.05    9.02   8.255425  0.000000     True\n",
       "0     Drip      Flood   11.47   10.05   5.985177  0.000012     True\n",
       "1     Drip     Furrow   11.47    9.63   8.172622  0.000000     True\n",
       "2     Drip  Sprinkler   11.47    9.02  10.590075  0.000000     True"
      ]
     },
     "execution_count": 8,
     "metadata": {},
     "output_type": "execute_result"
    }
   ],
   "source": [
    "dominance_results = irrigation.runDominance(df_Yield,\"t-test\")\n",
    "dominance_results"
   ]
  },
  {
   "attachments": {},
   "cell_type": "markdown",
   "metadata": {},
   "source": [
    "## Next: Examine the Growth Rates of the Different Methods"
   ]
  },
  {
   "cell_type": "code",
   "execution_count": 8,
   "metadata": {},
   "outputs": [
    {
     "data": {
      "text/plain": [
       "<AxesSubplot:>"
      ]
     },
     "execution_count": 8,
     "metadata": {},
     "output_type": "execute_result"
    },
    {
     "data": {
      "image/png": "[encoded data removed]",
      "text/plain": [
       "<Figure size 640x480 with 1 Axes>"
      ]
     },
     "metadata": {},
     "output_type": "display_data"
    }
   ],
   "source": [
    "df_GrowthRate.boxplot(grid=False)"
   ]
  },
  {
   "attachments": {},
   "cell_type": "markdown",
   "metadata": {},
   "source": [
    "Looking at box plot above, it looks as though the ranking of the methods for growth rate is: \n",
    "1. Drip\n",
    "2. Furrow\n",
    "3. Flood\n",
    "4. Sprinkler"
   ]
  },
  {
   "cell_type": "code",
   "execution_count": null,
   "metadata": {},
   "outputs": [],
   "source": []
  },
  {
   "cell_type": "markdown",
   "metadata": {},
   "source": []
  }
 ],
 "metadata": {
  "kernelspec": {
   "display_name": "base",
   "language": "python",
   "name": "python3"
  },
  "language_info": {
   "codemirror_mode": {
    "name": "ipython",
    "version": 3
   },
   "file_extension": ".py",
   "mimetype": "text/x-python",
   "name": "python",
   "nbconvert_exporter": "python",
   "pygments_lexer": "ipython3",
   "version": "3.9.13"
  },
  "orig_nbformat": 4
 },
 "nbformat": 4,
 "nbformat_minor": 2
}
