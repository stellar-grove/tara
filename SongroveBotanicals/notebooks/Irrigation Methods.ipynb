{
 "cells": [
  {
   "attachments": {},
   "cell_type": "markdown",
   "metadata": {},
   "source": [
    "# Irrigation Methods"
   ]
  },
  {
   "attachments": {},
   "cell_type": "markdown",
   "metadata": {},
   "source": [
    "This notebook can be run to recreate the analysis done to study irrigation methods."
   ]
  },
  {
   "attachments": {},
   "cell_type": "markdown",
   "metadata": {},
   "source": [
    "Begin by importing the library to run the experiments and initiate the classes."
   ]
  },
  {
   "cell_type": "code",
   "execution_count": null,
   "metadata": {},
   "outputs": [],
   "source": [
    "import sys; sys.path.append(\"../../../\")\n",
    "import tara.SongroveBotanicals.research as hub\n",
    "irrigation = hub.Irrigation()\n",
    "%matplotlib inline"
   ]
  },
  {
   "attachments": {},
   "cell_type": "markdown",
   "metadata": {},
   "source": [
    "### Load the Data\n",
    "Run the cells below to run the data gathered for the experiment.  For more on how the data was collected see https://www.stellargrove.com/irrigation-methods.  The data returned is broken into two dataframes: yield and growth rate."
   ]
  },
  {
   "cell_type": "code",
   "execution_count": null,
   "metadata": {},
   "outputs": [],
   "source": [
    "df_Yield, df_GrowthRate = irrigation.loadData()\n"
   ]
  },
  {
   "attachments": {},
   "cell_type": "markdown",
   "metadata": {},
   "source": [
    "# Analysis of Irrigation Methods Using Crop Yields"
   ]
  },
  {
   "attachments": {},
   "cell_type": "markdown",
   "metadata": {},
   "source": [
    "## Examine the Data"
   ]
  },
  {
   "attachments": {},
   "cell_type": "markdown",
   "metadata": {},
   "source": [
    "Run this cell if you want to see what it looks like after being transformed into a usable state."
   ]
  },
  {
   "cell_type": "code",
   "execution_count": null,
   "metadata": {},
   "outputs": [],
   "source": [
    "df_Yield.head()"
   ]
  },
  {
   "attachments": {},
   "cell_type": "markdown",
   "metadata": {},
   "source": [
    "## Introduction"
   ]
  },
  {
   "attachments": {},
   "cell_type": "markdown",
   "metadata": {},
   "source": [
    "To begin we will take a quick visual representation of what the data looks like in order to understand whether or not our initial hypothesis looks like it will hold true or not."
   ]
  },
  {
   "attachments": {},
   "cell_type": "markdown",
   "metadata": {},
   "source": [
    "## Yield Box Plots"
   ]
  },
  {
   "attachments": {},
   "cell_type": "markdown",
   "metadata": {},
   "source": [
    "Running the cell below will create a simple box plot for you to view how the data is distributed amongst the different irrigation methods."
   ]
  },
  {
   "cell_type": "code",
   "execution_count": null,
   "metadata": {},
   "outputs": [],
   "source": [
    "df_Yield.boxplot(grid=False)"
   ]
  },
  {
   "attachments": {},
   "cell_type": "markdown",
   "metadata": {},
   "source": [
    "Now that a visual representation has been established let's use stats to ensure that our intuition holds up to mathematical rigor."
   ]
  },
  {
   "attachments": {},
   "cell_type": "markdown",
   "metadata": {},
   "source": [
    "## Calculate the Mean Yield"
   ]
  },
  {
   "attachments": {},
   "cell_type": "markdown",
   "metadata": {},
   "source": [
    "For each of the different Irrigation Methods, calculate the mean yield of the crop grown.  The mean along with the Standard Deviation will give us an idea of whether or not we can make claims that one method is better than another."
   ]
  },
  {
   "cell_type": "code",
   "execution_count": null,
   "metadata": {},
   "outputs": [],
   "source": [
    "yields = irrigation.calculateMeans(df_Yield,sort_order=\"d\")\n",
    "yields"
   ]
  },
  {
   "attachments": {},
   "cell_type": "markdown",
   "metadata": {},
   "source": [
    "## Write Out Hypothesis"
   ]
  },
  {
   "cell_type": "code",
   "execution_count": null,
   "metadata": {},
   "outputs": [],
   "source": [
    "f_Yield, p_Yield = irrigation.runANOVA(df_Yield)\n",
    "print(f_Yield, p_Yield)"
   ]
  },
  {
   "attachments": {},
   "cell_type": "markdown",
   "metadata": {},
   "source": [
    "As can be seen from the very large F statistic and correspondingly small p-value, we can begin to assert some level of confidence that our null hypothesis is rightfully rejected."
   ]
  },
  {
   "attachments": {},
   "cell_type": "markdown",
   "metadata": {},
   "source": [
    "Looking at the means, it is natural to rank the effectiveness of the methods as:\n",
    "<ol>\n",
    "    <li>Drip\n",
    "    <li>Flood\n",
    "    <li>Furrow\n",
    "    <li>Sprinkler\n",
    "</ol>\n",
    "\n",
    "In the next section we will use ANOVA analysis to confirm our assumptions."
   ]
  },
  {
   "attachments": {},
   "cell_type": "markdown",
   "metadata": {},
   "source": [
    "## Dominance Analysis"
   ]
  },
  {
   "attachments": {},
   "cell_type": "markdown",
   "metadata": {},
   "source": [
    "Using the table below we can test on a pairwise basis whether or not the sample means are the same or not. <br>\n",
    "In this example, we use the t-test to determine whether the two methods that are being compared are the same or not. <br>\n",
    "To determine if one variable is greater than another, we first compare the two means, then determine whether or not we can reject the null hypothesis of the means being equal. <br>\n",
    "The table below outlines each mean, the test statistic, the p-value of the t-test performed and whether or not the test statistic was significant based on the p-value. "
   ]
  },
  {
   "cell_type": "code",
   "execution_count": null,
   "metadata": {},
   "outputs": [],
   "source": [
    "dominance_results = irrigation.runDominance(df_Yield,\"t-test\")\n",
    "dominance_results"
   ]
  },
  {
   "attachments": {},
   "cell_type": "markdown",
   "metadata": {},
   "source": [
    "As can be seen all the pairwise comparisons were statistically significant, meaning that we can adequately reject the null hypothesis that the means of each method that is being compared are equal. <br>\n",
    "Our initial ranking of <b>Drip -> Flood -> Furrow -> Sprinkler </b> seems to hold true with the means of each being: 11.47, 10.05, 9.63 and 9.02 respectively.  Examining all the pairwise comparisons laid out in the table we show that the Drip method of irrigation worked best when comparing the Yields of the crop.  "
   ]
  },
  {
   "attachments": {},
   "cell_type": "markdown",
   "metadata": {},
   "source": [
    "## Power of Test"
   ]
  },
  {
   "attachments": {},
   "cell_type": "markdown",
   "metadata": {},
   "source": [
    "One last note on how extensively that this analysis can be <i>trusted</i> that it is correct.  With only 10 trials, one would be rightfully a little skeptical that you are meeting all the assumptions required in order to perform the tests as the framework requires. <br>\n",
    "To test the power of the t-test we used, we can run the <b><i>determinePower</b></i> function to see how well our test works.<br>\n",
    "Using an effect size equal to Cohen's d = 0.8 we have the following:"
   ]
  },
  {
   "cell_type": "code",
   "execution_count": null,
   "metadata": {},
   "outputs": [],
   "source": [
    "effect_size =  0.8\n",
    "hub.determinePower(effect_size, 10)"
   ]
  },
  {
   "attachments": {},
   "cell_type": "markdown",
   "metadata": {},
   "source": [
    "More aptly, from the documentation: Power is the probability that the test correctly rejects the Null Hypothesis if the Alternative Hypothesis is true.  <br>\n",
    "With the power of this test being roughly 0.62, we would have some confidence in this experiment to appropriately reject the null hypothesis of all the means being equal in favor the null that they are not. <br>\n",
    "This then brings the question of how can we determine how many trials must be performed in order to have a good amount of <i>faith</i> in the experiment?  In order to do so, we need to solve for the sample size based on the effect we'd expect to see and the alpha value we are using as our type I tolerance."
   ]
  },
  {
   "cell_type": "code",
   "execution_count": null,
   "metadata": {},
   "outputs": [],
   "source": [
    "size = hub.determineSampleSize(0.8)\n",
    "size"
   ]
  },
  {
   "attachments": {},
   "cell_type": "markdown",
   "metadata": {},
   "source": [
    "# Analysis of Irrigation Methods Using Growth Rates"
   ]
  },
  {
   "attachments": {},
   "cell_type": "markdown",
   "metadata": {},
   "source": [
    "## Examine the data visually"
   ]
  },
  {
   "cell_type": "code",
   "execution_count": null,
   "metadata": {},
   "outputs": [],
   "source": [
    "df_GrowthRate.boxplot(grid=False)"
   ]
  },
  {
   "attachments": {},
   "cell_type": "markdown",
   "metadata": {},
   "source": [
    "Looking at box plot above, it looks as though the ranking of the methods for growth rate is: \n",
    "1. Drip\n",
    "2. Furrow\n",
    "3. Flood\n",
    "4. Sprinkler"
   ]
  },
  {
   "attachments": {},
   "cell_type": "markdown",
   "metadata": {},
   "source": [
    "Now that a visual representation has been established let's use stats to ensure that our intuition holds up to mathematical rigor."
   ]
  },
  {
   "attachments": {},
   "cell_type": "markdown",
   "metadata": {},
   "source": [
    "### Calculate the Mean Yield"
   ]
  },
  {
   "attachments": {},
   "cell_type": "markdown",
   "metadata": {},
   "source": [
    "For each of the different Irrigation Methods, calculate the mean yield of the crop grown.  The mean along with the Standard Deviation will give us an idea of whether or not we can make claims that one method is better than another."
   ]
  },
  {
   "cell_type": "code",
   "execution_count": null,
   "metadata": {},
   "outputs": [],
   "source": [
    "growthrates = irrigation.calculateMeans(df_GrowthRate,sort_order=\"d\")\n",
    "growthrates"
   ]
  },
  {
   "attachments": {},
   "cell_type": "markdown",
   "metadata": {},
   "source": [
    "### Write Out Hypothesis"
   ]
  },
  {
   "attachments": {},
   "cell_type": "markdown",
   "metadata": {},
   "source": [
    "Looking at the means, it is natural to rank the effectiveness of the methods as:\n",
    "<ol>\n",
    "    <li>Drip\n",
    "    <li>Furrow\n",
    "    <li>Flood\n",
    "    <li>Sprinkler\n",
    "</ol>\n",
    "\n",
    "In the next section we will use ANOVA analysis to confirm our assumptions."
   ]
  },
  {
   "attachments": {},
   "cell_type": "markdown",
   "metadata": {},
   "source": [
    "### ANOVA Analysis"
   ]
  },
  {
   "attachments": {},
   "cell_type": "markdown",
   "metadata": {},
   "source": [
    "Run the cell below to get the f-statistic and p-value for the growth rates of different irrigation methods."
   ]
  },
  {
   "cell_type": "code",
   "execution_count": null,
   "metadata": {},
   "outputs": [],
   "source": [
    "f_GrowthRate, p_GrowthRate = irrigation.runANOVA(df_GrowthRate)\n",
    "print(f_GrowthRate, p_GrowthRate)"
   ]
  },
  {
   "cell_type": "markdown",
   "metadata": {},
   "source": [
    "As can be seen from the very large F statistic and correspondingly small p-value, we can begin to assert some level of confidence that our null hypothesis is rightfully rejected."
   ]
  },
  {
   "attachments": {},
   "cell_type": "markdown",
   "metadata": {},
   "source": [
    "### Dominance Analysis"
   ]
  },
  {
   "attachments": {},
   "cell_type": "markdown",
   "metadata": {},
   "source": [
    "Using the table below we can test on a pairwise basis whether or not the sample means are the same or not. <br>\n",
    "In this example, we use the t-test to determine whether the two methods that are being compared are the same or not. <br>\n",
    "To determine if one variable is greater than another, we first compare the two means, then determine whether or not we can reject the null hypothesis of the means being equal. <br>\n",
    "The table below outlines each mean, the test statistic, the p-value of the t-test performed and whether or not the test statistic was significant based on the p-value. "
   ]
  },
  {
   "cell_type": "code",
   "execution_count": null,
   "metadata": {},
   "outputs": [],
   "source": [
    "dominance_results = irrigation.runDominance(df_GrowthRate,\"t-test\")\n",
    "dominance_results"
   ]
  },
  {
   "cell_type": "markdown",
   "metadata": {},
   "source": [
    "As can be seen all the pairwise comparisons were statistically significant, meaning that we can adequately reject the null hypothesis that the means of each method that is being compared are equal. <br>\n",
    "Our initial ranking of <b>Drip -> Flood -> Furrow -> Sprinkler </b> seems to hold true with the means of each being: 11.47, 10.05, 9.63 and 9.02 respectively.  Examining all the pairwise comparisons laid out in the table we show that the Drip method of irrigation worked best when comparing the Yields of the crop.  "
   ]
  },
  {
   "attachments": {},
   "cell_type": "markdown",
   "metadata": {},
   "source": [
    "## Power of Test"
   ]
  },
  {
   "attachments": {},
   "cell_type": "markdown",
   "metadata": {},
   "source": [
    "One last note on how extensively that this analysis can be <i>trusted</i> that it is correct.  With only 10 trials, one would be rightfully a little skeptical that you are meeting all the assumptions required in order to perform the tests as the framework requires. <br>\n",
    "To test the power of the t-test we used, we can run the <b><i>determinePower</b></i> function to see how well our test works.<br>\n",
    "Using an effect size equal to Cohen's d = 0.8 we have the following:"
   ]
  },
  {
   "cell_type": "code",
   "execution_count": null,
   "metadata": {},
   "outputs": [],
   "source": [
    "effect_size =  0.8\n",
    "hub.determinePower(effect_size, 10)"
   ]
  },
  {
   "cell_type": "markdown",
   "metadata": {},
   "source": [
    "More aptly, from the documentation: Power is the probability that the test correctly rejects the Null Hypothesis if the Alternative Hypothesis is true.  <br>\n",
    "With the power of this test being roughly 0.62, we would have some confidence in this experiment to appropriately reject the null hypothesis of all the means being equal in favor the null that they are not. <br>\n",
    "This then brings the question of how can we determine how many trials must be performed in order to have a good amount of <i>faith</i> in the experiment?  In order to do so, we need to solve for the sample size based on the effect we'd expect to see and the alpha value we are using as our type I tolerance."
   ]
  },
  {
   "cell_type": "code",
   "execution_count": null,
   "metadata": {},
   "outputs": [],
   "source": [
    "size = hub.determineSampleSize(0.8)\n",
    "size"
   ]
  }
 ],
 "metadata": {
  "kernelspec": {
   "display_name": "base",
   "language": "python",
   "name": "python3"
  },
  "language_info": {
   "codemirror_mode": {
    "name": "ipython",
    "version": 3
   },
   "file_extension": ".py",
   "mimetype": "text/x-python",
   "name": "python",
   "nbconvert_exporter": "python",
   "pygments_lexer": "ipython3",
   "version": "3.9.13"
  },
  "orig_nbformat": 4
 },
 "nbformat": 4,
 "nbformat_minor": 2
}
