{
 "cells": [
  {
   "attachments": {},
   "cell_type": "markdown",
   "metadata": {},
   "source": [
    "# Fertilizer Types"
   ]
  },
  {
   "attachments": {},
   "cell_type": "markdown",
   "metadata": {},
   "source": [
    "## Introduction"
   ]
  },
  {
   "attachments": {},
   "cell_type": "markdown",
   "metadata": {},
   "source": [
    "This notebook can be run to recreate the analysis done to study fertilizer types."
   ]
  },
  {
   "cell_type": "markdown",
   "metadata": {},
   "source": [
    "Begin by importing the library to run the experiments and initiate the classes."
   ]
  },
  {
   "cell_type": "code",
   "execution_count": 1,
   "metadata": {},
   "outputs": [],
   "source": [
    "import sys; sys.path.append(\"../../../\")\n",
    "import tara.SongroveBotanicals.research as hub\n",
    "fertilizer = hub.Fertilizer()\n",
    "%matplotlib inline"
   ]
  },
  {
   "attachments": {},
   "cell_type": "markdown",
   "metadata": {},
   "source": [
    "### Import Data\n",
    "Running the cell below were pull all the data collected and create a dictionary that contains all the data needed to study any of the Methods in review."
   ]
  },
  {
   "cell_type": "code",
   "execution_count": 12,
   "metadata": {},
   "outputs": [
    {
     "data": {
      "text/plain": [
       "dict_keys(['corn', 'tomatoes', 'spinach', 'carrots', 'green_beans'])"
      ]
     },
     "execution_count": 12,
     "metadata": {},
     "output_type": "execute_result"
    }
   ],
   "source": [
    "data = fertilizer.loadData()\n",
    "data.keys()"
   ]
  },
  {
   "attachments": {},
   "cell_type": "markdown",
   "metadata": {},
   "source": [
    "## Corn"
   ]
  },
  {
   "cell_type": "markdown",
   "metadata": {},
   "source": [
    "Parse out the data for the corn crop and examine it."
   ]
  },
  {
   "cell_type": "code",
   "execution_count": 13,
   "metadata": {},
   "outputs": [
    {
     "data": {
      "text/html": [
       "<div>\n",
       "<style scoped>\n",
       "    .dataframe tbody tr th:only-of-type {\n",
       "        vertical-align: middle;\n",
       "    }\n",
       "\n",
       "    .dataframe tbody tr th {\n",
       "        vertical-align: top;\n",
       "    }\n",
       "\n",
       "    .dataframe thead th {\n",
       "        text-align: right;\n",
       "    }\n",
       "</style>\n",
       "<table border=\"1\" class=\"dataframe\">\n",
       "  <thead>\n",
       "    <tr style=\"text-align: right;\">\n",
       "      <th>FertilizerType</th>\n",
       "      <th>Chemical</th>\n",
       "      <th>Combination</th>\n",
       "      <th>Organic</th>\n",
       "    </tr>\n",
       "    <tr>\n",
       "      <th>TrialNumber</th>\n",
       "      <th></th>\n",
       "      <th></th>\n",
       "      <th></th>\n",
       "    </tr>\n",
       "  </thead>\n",
       "  <tbody>\n",
       "    <tr>\n",
       "      <th>1</th>\n",
       "      <td>2.086343</td>\n",
       "      <td>5.447550</td>\n",
       "      <td>5.504518</td>\n",
       "    </tr>\n",
       "    <tr>\n",
       "      <th>2</th>\n",
       "      <td>3.645727</td>\n",
       "      <td>5.782563</td>\n",
       "      <td>7.179734</td>\n",
       "    </tr>\n",
       "    <tr>\n",
       "      <th>3</th>\n",
       "      <td>5.138348</td>\n",
       "      <td>5.283742</td>\n",
       "      <td>3.821368</td>\n",
       "    </tr>\n",
       "    <tr>\n",
       "      <th>4</th>\n",
       "      <td>7.535621</td>\n",
       "      <td>5.328845</td>\n",
       "      <td>5.089437</td>\n",
       "    </tr>\n",
       "    <tr>\n",
       "      <th>5</th>\n",
       "      <td>3.702222</td>\n",
       "      <td>4.130039</td>\n",
       "      <td>5.489022</td>\n",
       "    </tr>\n",
       "  </tbody>\n",
       "</table>\n",
       "</div>"
      ],
      "text/plain": [
       "FertilizerType  Chemical  Combination   Organic\n",
       "TrialNumber                                    \n",
       "1               2.086343     5.447550  5.504518\n",
       "2               3.645727     5.782563  7.179734\n",
       "3               5.138348     5.283742  3.821368\n",
       "4               7.535621     5.328845  5.089437\n",
       "5               3.702222     4.130039  5.489022"
      ]
     },
     "execution_count": 13,
     "metadata": {},
     "output_type": "execute_result"
    }
   ],
   "source": [
    "df_corn = data[\"corn\"]\n",
    "df_corn"
   ]
  },
  {
   "cell_type": "code",
   "execution_count": null,
   "metadata": {},
   "outputs": [
    {
     "data": {
      "text/plain": [
       "<AxesSubplot:>"
      ]
     },
     "metadata": {},
     "output_type": "display_data"
    },
    {
     "data": {
      "image/png": "[encoded data removed]",
      "text/plain": [
       "<Figure size 640x480 with 1 Axes>"
      ]
     },
     "metadata": {},
     "output_type": "display_data"
    }
   ],
   "source": [
    "df_corn.boxplot(grid=False)"
   ]
  },
  {
   "cell_type": "code",
   "execution_count": null,
   "metadata": {},
   "outputs": [
    {
     "data": {
      "text/html": [
       "<div>\n",
       "<style scoped>\n",
       "    .dataframe tbody tr th:only-of-type {\n",
       "        vertical-align: middle;\n",
       "    }\n",
       "\n",
       "    .dataframe tbody tr th {\n",
       "        vertical-align: top;\n",
       "    }\n",
       "\n",
       "    .dataframe thead th {\n",
       "        text-align: right;\n",
       "    }\n",
       "</style>\n",
       "<table border=\"1\" class=\"dataframe\">\n",
       "  <thead>\n",
       "    <tr style=\"text-align: right;\">\n",
       "      <th></th>\n",
       "      <th>Method</th>\n",
       "      <th>AverageYield</th>\n",
       "    </tr>\n",
       "  </thead>\n",
       "  <tbody>\n",
       "    <tr>\n",
       "      <th>2</th>\n",
       "      <td>Organic</td>\n",
       "      <td>5.416816</td>\n",
       "    </tr>\n",
       "    <tr>\n",
       "      <th>1</th>\n",
       "      <td>Combination</td>\n",
       "      <td>5.194548</td>\n",
       "    </tr>\n",
       "    <tr>\n",
       "      <th>0</th>\n",
       "      <td>Chemical</td>\n",
       "      <td>4.421652</td>\n",
       "    </tr>\n",
       "  </tbody>\n",
       "</table>\n",
       "</div>"
      ],
      "text/plain": [
       "        Method  AverageYield\n",
       "2      Organic      5.416816\n",
       "1  Combination      5.194548\n",
       "0     Chemical      4.421652"
      ]
     },
     "metadata": {},
     "output_type": "display_data"
    }
   ],
   "source": [
    "fertilizers = fertilizer.calculateMeans(df_corn,sort_order=\"d\")\n",
    "fertilizers"
   ]
  },
  {
   "cell_type": "code",
   "execution_count": null,
   "metadata": {},
   "outputs": [
    {
     "name": "stdout",
     "output_type": "stream",
     "text": [
      "0.678568 0.525784\n"
     ]
    }
   ],
   "source": [
    "f_Corn, p_Corn = fertilizer.runANOVA(df_corn)\n",
    "print(f_Corn, p_Corn)"
   ]
  },
  {
   "cell_type": "code",
   "execution_count": null,
   "metadata": {},
   "outputs": [
    {
     "data": {
      "text/html": [
       "<div>\n",
       "<style scoped>\n",
       "    .dataframe tbody tr th:only-of-type {\n",
       "        vertical-align: middle;\n",
       "    }\n",
       "\n",
       "    .dataframe tbody tr th {\n",
       "        vertical-align: top;\n",
       "    }\n",
       "\n",
       "    .dataframe thead th {\n",
       "        text-align: right;\n",
       "    }\n",
       "</style>\n",
       "<table border=\"1\" class=\"dataframe\">\n",
       "  <thead>\n",
       "    <tr style=\"text-align: right;\">\n",
       "      <th></th>\n",
       "      <th>Method 1</th>\n",
       "      <th>Method 2</th>\n",
       "      <th>Mean 1</th>\n",
       "      <th>Mean 2</th>\n",
       "      <th>TestStat</th>\n",
       "      <th>p-value</th>\n",
       "      <th>pValSig</th>\n",
       "    </tr>\n",
       "  </thead>\n",
       "  <tbody>\n",
       "    <tr>\n",
       "      <th>2</th>\n",
       "      <td>Combination</td>\n",
       "      <td>Organic</td>\n",
       "      <td>5.194548</td>\n",
       "      <td>5.416816</td>\n",
       "      <td>-0.366837</td>\n",
       "      <td>0.723254</td>\n",
       "      <td>False</td>\n",
       "    </tr>\n",
       "    <tr>\n",
       "      <th>0</th>\n",
       "      <td>Chemical</td>\n",
       "      <td>Combination</td>\n",
       "      <td>4.421652</td>\n",
       "      <td>5.194548</td>\n",
       "      <td>-0.806837</td>\n",
       "      <td>0.443084</td>\n",
       "      <td>False</td>\n",
       "    </tr>\n",
       "    <tr>\n",
       "      <th>1</th>\n",
       "      <td>Chemical</td>\n",
       "      <td>Organic</td>\n",
       "      <td>4.421652</td>\n",
       "      <td>5.416816</td>\n",
       "      <td>-0.937059</td>\n",
       "      <td>0.376150</td>\n",
       "      <td>False</td>\n",
       "    </tr>\n",
       "  </tbody>\n",
       "</table>\n",
       "</div>"
      ],
      "text/plain": [
       "      Method 1     Method 2    Mean 1    Mean 2  TestStat   p-value  pValSig\n",
       "2  Combination      Organic  5.194548  5.416816 -0.366837  0.723254    False\n",
       "0     Chemical  Combination  4.421652  5.194548 -0.806837  0.443084    False\n",
       "1     Chemical      Organic  4.421652  5.416816 -0.937059  0.376150    False"
      ]
     },
     "metadata": {},
     "output_type": "display_data"
    }
   ],
   "source": [
    "dominance_results = fertilizer.runDominance(df_corn,\"t-test\")\n",
    "dominance_results"
   ]
  },
  {
   "attachments": {},
   "cell_type": "markdown",
   "metadata": {},
   "source": [
    "## Tomatoes"
   ]
  },
  {
   "cell_type": "markdown",
   "metadata": {},
   "source": [
    "Parse out the data for the corn crop and examine it."
   ]
  },
  {
   "cell_type": "code",
   "execution_count": 17,
   "metadata": {},
   "outputs": [
    {
     "data": {
      "text/html": [
       "<div>\n",
       "<style scoped>\n",
       "    .dataframe tbody tr th:only-of-type {\n",
       "        vertical-align: middle;\n",
       "    }\n",
       "\n",
       "    .dataframe tbody tr th {\n",
       "        vertical-align: top;\n",
       "    }\n",
       "\n",
       "    .dataframe thead th {\n",
       "        text-align: right;\n",
       "    }\n",
       "</style>\n",
       "<table border=\"1\" class=\"dataframe\">\n",
       "  <thead>\n",
       "    <tr style=\"text-align: right;\">\n",
       "      <th>FertilizerType</th>\n",
       "      <th>Chemical</th>\n",
       "      <th>Combination</th>\n",
       "      <th>Organic</th>\n",
       "    </tr>\n",
       "    <tr>\n",
       "      <th>TrialNumber</th>\n",
       "      <th></th>\n",
       "      <th></th>\n",
       "      <th></th>\n",
       "    </tr>\n",
       "  </thead>\n",
       "  <tbody>\n",
       "    <tr>\n",
       "      <th>1</th>\n",
       "      <td>3.576072</td>\n",
       "      <td>7.374271</td>\n",
       "      <td>6.213564</td>\n",
       "    </tr>\n",
       "    <tr>\n",
       "      <th>2</th>\n",
       "      <td>2.675793</td>\n",
       "      <td>7.953366</td>\n",
       "      <td>6.365765</td>\n",
       "    </tr>\n",
       "    <tr>\n",
       "      <th>3</th>\n",
       "      <td>2.623229</td>\n",
       "      <td>8.137578</td>\n",
       "      <td>6.152594</td>\n",
       "    </tr>\n",
       "    <tr>\n",
       "      <th>4</th>\n",
       "      <td>6.604901</td>\n",
       "      <td>8.581919</td>\n",
       "      <td>5.411853</td>\n",
       "    </tr>\n",
       "    <tr>\n",
       "      <th>5</th>\n",
       "      <td>3.570734</td>\n",
       "      <td>9.316411</td>\n",
       "      <td>6.235550</td>\n",
       "    </tr>\n",
       "  </tbody>\n",
       "</table>\n",
       "</div>"
      ],
      "text/plain": [
       "FertilizerType  Chemical  Combination   Organic\n",
       "TrialNumber                                    \n",
       "1               3.576072     7.374271  6.213564\n",
       "2               2.675793     7.953366  6.365765\n",
       "3               2.623229     8.137578  6.152594\n",
       "4               6.604901     8.581919  5.411853\n",
       "5               3.570734     9.316411  6.235550"
      ]
     },
     "execution_count": 17,
     "metadata": {},
     "output_type": "execute_result"
    }
   ],
   "source": [
    "df_tomatoes = data[\"tomatoes\"]\n",
    "df_tomatoes"
   ]
  },
  {
   "cell_type": "code",
   "execution_count": 18,
   "metadata": {},
   "outputs": [
    {
     "data": {
      "text/plain": [
       "<AxesSubplot:>"
      ]
     },
     "execution_count": 18,
     "metadata": {},
     "output_type": "execute_result"
    },
    {
     "data": {
      "image/png": "[encoded data removed]",
      "text/plain": [
       "<Figure size 640x480 with 1 Axes>"
      ]
     },
     "metadata": {},
     "output_type": "display_data"
    }
   ],
   "source": [
    "df_tomatoes.boxplot(grid=False)"
   ]
  },
  {
   "cell_type": "code",
   "execution_count": 19,
   "metadata": {},
   "outputs": [
    {
     "data": {
      "text/html": [
       "<div>\n",
       "<style scoped>\n",
       "    .dataframe tbody tr th:only-of-type {\n",
       "        vertical-align: middle;\n",
       "    }\n",
       "\n",
       "    .dataframe tbody tr th {\n",
       "        vertical-align: top;\n",
       "    }\n",
       "\n",
       "    .dataframe thead th {\n",
       "        text-align: right;\n",
       "    }\n",
       "</style>\n",
       "<table border=\"1\" class=\"dataframe\">\n",
       "  <thead>\n",
       "    <tr style=\"text-align: right;\">\n",
       "      <th></th>\n",
       "      <th>Method</th>\n",
       "      <th>AverageYield</th>\n",
       "    </tr>\n",
       "  </thead>\n",
       "  <tbody>\n",
       "    <tr>\n",
       "      <th>1</th>\n",
       "      <td>Combination</td>\n",
       "      <td>8.272709</td>\n",
       "    </tr>\n",
       "    <tr>\n",
       "      <th>2</th>\n",
       "      <td>Organic</td>\n",
       "      <td>6.075865</td>\n",
       "    </tr>\n",
       "    <tr>\n",
       "      <th>0</th>\n",
       "      <td>Chemical</td>\n",
       "      <td>3.810146</td>\n",
       "    </tr>\n",
       "  </tbody>\n",
       "</table>\n",
       "</div>"
      ],
      "text/plain": [
       "        Method  AverageYield\n",
       "1  Combination      8.272709\n",
       "2      Organic      6.075865\n",
       "0     Chemical      3.810146"
      ]
     },
     "execution_count": 19,
     "metadata": {},
     "output_type": "execute_result"
    }
   ],
   "source": [
    "fertilizers = fertilizer.calculateMeans(df_tomatoes,sort_order=\"d\")\n",
    "fertilizers"
   ]
  },
  {
   "cell_type": "code",
   "execution_count": 21,
   "metadata": {},
   "outputs": [
    {
     "name": "stdout",
     "output_type": "stream",
     "text": [
      "22.451672 8.8e-05\n"
     ]
    }
   ],
   "source": [
    "f_Tomatoe, p_Tomatoe = fertilizer.runANOVA(df_tomatoes)\n",
    "print(f_Tomatoe, p_Tomatoe)"
   ]
  },
  {
   "cell_type": "code",
   "execution_count": 22,
   "metadata": {},
   "outputs": [
    {
     "data": {
      "text/html": [
       "<div>\n",
       "<style scoped>\n",
       "    .dataframe tbody tr th:only-of-type {\n",
       "        vertical-align: middle;\n",
       "    }\n",
       "\n",
       "    .dataframe tbody tr th {\n",
       "        vertical-align: top;\n",
       "    }\n",
       "\n",
       "    .dataframe thead th {\n",
       "        text-align: right;\n",
       "    }\n",
       "</style>\n",
       "<table border=\"1\" class=\"dataframe\">\n",
       "  <thead>\n",
       "    <tr style=\"text-align: right;\">\n",
       "      <th></th>\n",
       "      <th>Method 1</th>\n",
       "      <th>Method 2</th>\n",
       "      <th>Mean 1</th>\n",
       "      <th>Mean 2</th>\n",
       "      <th>TestStat</th>\n",
       "      <th>p-value</th>\n",
       "      <th>pValSig</th>\n",
       "    </tr>\n",
       "  </thead>\n",
       "  <tbody>\n",
       "    <tr>\n",
       "      <th>2</th>\n",
       "      <td>Combination</td>\n",
       "      <td>Organic</td>\n",
       "      <td>8.272709</td>\n",
       "      <td>6.075865</td>\n",
       "      <td>5.992765</td>\n",
       "      <td>0.000326</td>\n",
       "      <td>True</td>\n",
       "    </tr>\n",
       "    <tr>\n",
       "      <th>0</th>\n",
       "      <td>Chemical</td>\n",
       "      <td>Combination</td>\n",
       "      <td>3.810146</td>\n",
       "      <td>8.272709</td>\n",
       "      <td>-5.593378</td>\n",
       "      <td>0.000514</td>\n",
       "      <td>True</td>\n",
       "    </tr>\n",
       "    <tr>\n",
       "      <th>1</th>\n",
       "      <td>Chemical</td>\n",
       "      <td>Organic</td>\n",
       "      <td>3.810146</td>\n",
       "      <td>6.075865</td>\n",
       "      <td>-3.028561</td>\n",
       "      <td>0.016345</td>\n",
       "      <td>True</td>\n",
       "    </tr>\n",
       "  </tbody>\n",
       "</table>\n",
       "</div>"
      ],
      "text/plain": [
       "      Method 1     Method 2    Mean 1    Mean 2  TestStat   p-value  pValSig\n",
       "2  Combination      Organic  8.272709  6.075865  5.992765  0.000326     True\n",
       "0     Chemical  Combination  3.810146  8.272709 -5.593378  0.000514     True\n",
       "1     Chemical      Organic  3.810146  6.075865 -3.028561  0.016345     True"
      ]
     },
     "execution_count": 22,
     "metadata": {},
     "output_type": "execute_result"
    }
   ],
   "source": [
    "dominance_results = fertilizer.runDominance(df_tomatoes,\"t-test\")\n",
    "dominance_results"
   ]
  },
  {
   "attachments": {},
   "cell_type": "markdown",
   "metadata": {},
   "source": [
    "## Spinach"
   ]
  },
  {
   "cell_type": "markdown",
   "metadata": {},
   "source": [
    "Parse out the data for the corn crop and examine it."
   ]
  },
  {
   "cell_type": "code",
   "execution_count": 16,
   "metadata": {},
   "outputs": [
    {
     "data": {
      "text/html": [
       "<div>\n",
       "<style scoped>\n",
       "    .dataframe tbody tr th:only-of-type {\n",
       "        vertical-align: middle;\n",
       "    }\n",
       "\n",
       "    .dataframe tbody tr th {\n",
       "        vertical-align: top;\n",
       "    }\n",
       "\n",
       "    .dataframe thead th {\n",
       "        text-align: right;\n",
       "    }\n",
       "</style>\n",
       "<table border=\"1\" class=\"dataframe\">\n",
       "  <thead>\n",
       "    <tr style=\"text-align: right;\">\n",
       "      <th>FertilizerType</th>\n",
       "      <th>Chemical</th>\n",
       "      <th>Combination</th>\n",
       "      <th>Organic</th>\n",
       "    </tr>\n",
       "    <tr>\n",
       "      <th>TrialNumber</th>\n",
       "      <th></th>\n",
       "      <th></th>\n",
       "      <th></th>\n",
       "    </tr>\n",
       "  </thead>\n",
       "  <tbody>\n",
       "    <tr>\n",
       "      <th>1</th>\n",
       "      <td>4.766207</td>\n",
       "      <td>8.704463</td>\n",
       "      <td>3.071477</td>\n",
       "    </tr>\n",
       "    <tr>\n",
       "      <th>2</th>\n",
       "      <td>5.866835</td>\n",
       "      <td>7.025657</td>\n",
       "      <td>3.053091</td>\n",
       "    </tr>\n",
       "    <tr>\n",
       "      <th>3</th>\n",
       "      <td>5.120768</td>\n",
       "      <td>6.633152</td>\n",
       "      <td>3.541473</td>\n",
       "    </tr>\n",
       "    <tr>\n",
       "      <th>4</th>\n",
       "      <td>3.003895</td>\n",
       "      <td>5.257851</td>\n",
       "      <td>2.864378</td>\n",
       "    </tr>\n",
       "    <tr>\n",
       "      <th>5</th>\n",
       "      <td>4.322459</td>\n",
       "      <td>5.754373</td>\n",
       "      <td>1.770893</td>\n",
       "    </tr>\n",
       "  </tbody>\n",
       "</table>\n",
       "</div>"
      ],
      "text/plain": [
       "FertilizerType  Chemical  Combination   Organic\n",
       "TrialNumber                                    \n",
       "1               4.766207     8.704463  3.071477\n",
       "2               5.866835     7.025657  3.053091\n",
       "3               5.120768     6.633152  3.541473\n",
       "4               3.003895     5.257851  2.864378\n",
       "5               4.322459     5.754373  1.770893"
      ]
     },
     "execution_count": 16,
     "metadata": {},
     "output_type": "execute_result"
    }
   ],
   "source": [
    "df_spinach = data[\"spinach\"]\n",
    "df_spinach"
   ]
  },
  {
   "cell_type": "code",
   "execution_count": null,
   "metadata": {},
   "outputs": [
    {
     "data": {
      "text/plain": [
       "<AxesSubplot:>"
      ]
     },
     "metadata": {},
     "output_type": "display_data"
    },
    {
     "data": {
      "image/png": "[encoded data removed]",
      "text/plain": [
       "<Figure size 640x480 with 1 Axes>"
      ]
     },
     "metadata": {},
     "output_type": "display_data"
    }
   ],
   "source": [
    "df_spinach.boxplot(grid=False)"
   ]
  },
  {
   "cell_type": "code",
   "execution_count": null,
   "metadata": {},
   "outputs": [
    {
     "data": {
      "text/html": [
       "<div>\n",
       "<style scoped>\n",
       "    .dataframe tbody tr th:only-of-type {\n",
       "        vertical-align: middle;\n",
       "    }\n",
       "\n",
       "    .dataframe tbody tr th {\n",
       "        vertical-align: top;\n",
       "    }\n",
       "\n",
       "    .dataframe thead th {\n",
       "        text-align: right;\n",
       "    }\n",
       "</style>\n",
       "<table border=\"1\" class=\"dataframe\">\n",
       "  <thead>\n",
       "    <tr style=\"text-align: right;\">\n",
       "      <th></th>\n",
       "      <th>Method</th>\n",
       "      <th>AverageYield</th>\n",
       "    </tr>\n",
       "  </thead>\n",
       "  <tbody>\n",
       "    <tr>\n",
       "      <th>2</th>\n",
       "      <td>Organic</td>\n",
       "      <td>5.416816</td>\n",
       "    </tr>\n",
       "    <tr>\n",
       "      <th>1</th>\n",
       "      <td>Combination</td>\n",
       "      <td>5.194548</td>\n",
       "    </tr>\n",
       "    <tr>\n",
       "      <th>0</th>\n",
       "      <td>Chemical</td>\n",
       "      <td>4.421652</td>\n",
       "    </tr>\n",
       "  </tbody>\n",
       "</table>\n",
       "</div>"
      ],
      "text/plain": [
       "        Method  AverageYield\n",
       "2      Organic      5.416816\n",
       "1  Combination      5.194548\n",
       "0     Chemical      4.421652"
      ]
     },
     "metadata": {},
     "output_type": "display_data"
    }
   ],
   "source": [
    "fertilizers = fertilizer.calculateMeans(df_spinach,sort_order=\"d\")\n",
    "fertilizers"
   ]
  },
  {
   "cell_type": "code",
   "execution_count": null,
   "metadata": {},
   "outputs": [
    {
     "name": "stdout",
     "output_type": "stream",
     "text": [
      "0.678568 0.525784\n"
     ]
    }
   ],
   "source": [
    "f_Spinach, p_Spinach = fertilizer.runANOVA(df_spinach)\n",
    "print(f_Spinach, p_Corn)"
   ]
  },
  {
   "cell_type": "code",
   "execution_count": null,
   "metadata": {},
   "outputs": [
    {
     "data": {
      "text/html": [
       "<div>\n",
       "<style scoped>\n",
       "    .dataframe tbody tr th:only-of-type {\n",
       "        vertical-align: middle;\n",
       "    }\n",
       "\n",
       "    .dataframe tbody tr th {\n",
       "        vertical-align: top;\n",
       "    }\n",
       "\n",
       "    .dataframe thead th {\n",
       "        text-align: right;\n",
       "    }\n",
       "</style>\n",
       "<table border=\"1\" class=\"dataframe\">\n",
       "  <thead>\n",
       "    <tr style=\"text-align: right;\">\n",
       "      <th></th>\n",
       "      <th>Method 1</th>\n",
       "      <th>Method 2</th>\n",
       "      <th>Mean 1</th>\n",
       "      <th>Mean 2</th>\n",
       "      <th>TestStat</th>\n",
       "      <th>p-value</th>\n",
       "      <th>pValSig</th>\n",
       "    </tr>\n",
       "  </thead>\n",
       "  <tbody>\n",
       "    <tr>\n",
       "      <th>2</th>\n",
       "      <td>Combination</td>\n",
       "      <td>Organic</td>\n",
       "      <td>5.194548</td>\n",
       "      <td>5.416816</td>\n",
       "      <td>-0.366837</td>\n",
       "      <td>0.723254</td>\n",
       "      <td>False</td>\n",
       "    </tr>\n",
       "    <tr>\n",
       "      <th>0</th>\n",
       "      <td>Chemical</td>\n",
       "      <td>Combination</td>\n",
       "      <td>4.421652</td>\n",
       "      <td>5.194548</td>\n",
       "      <td>-0.806837</td>\n",
       "      <td>0.443084</td>\n",
       "      <td>False</td>\n",
       "    </tr>\n",
       "    <tr>\n",
       "      <th>1</th>\n",
       "      <td>Chemical</td>\n",
       "      <td>Organic</td>\n",
       "      <td>4.421652</td>\n",
       "      <td>5.416816</td>\n",
       "      <td>-0.937059</td>\n",
       "      <td>0.376150</td>\n",
       "      <td>False</td>\n",
       "    </tr>\n",
       "  </tbody>\n",
       "</table>\n",
       "</div>"
      ],
      "text/plain": [
       "      Method 1     Method 2    Mean 1    Mean 2  TestStat   p-value  pValSig\n",
       "2  Combination      Organic  5.194548  5.416816 -0.366837  0.723254    False\n",
       "0     Chemical  Combination  4.421652  5.194548 -0.806837  0.443084    False\n",
       "1     Chemical      Organic  4.421652  5.416816 -0.937059  0.376150    False"
      ]
     },
     "metadata": {},
     "output_type": "display_data"
    }
   ],
   "source": [
    "dominance_results = fertilizer.runDominance(df_spinach,\"t-test\")\n",
    "dominance_results"
   ]
  },
  {
   "attachments": {},
   "cell_type": "markdown",
   "metadata": {},
   "source": [
    "## Carrots"
   ]
  },
  {
   "cell_type": "markdown",
   "metadata": {},
   "source": [
    "Parse out the data for the corn crop and examine it."
   ]
  },
  {
   "cell_type": "code",
   "execution_count": null,
   "metadata": {},
   "outputs": [
    {
     "data": {
      "text/html": [
       "<div>\n",
       "<style scoped>\n",
       "    .dataframe tbody tr th:only-of-type {\n",
       "        vertical-align: middle;\n",
       "    }\n",
       "\n",
       "    .dataframe tbody tr th {\n",
       "        vertical-align: top;\n",
       "    }\n",
       "\n",
       "    .dataframe thead th {\n",
       "        text-align: right;\n",
       "    }\n",
       "</style>\n",
       "<table border=\"1\" class=\"dataframe\">\n",
       "  <thead>\n",
       "    <tr style=\"text-align: right;\">\n",
       "      <th>FertilizerType</th>\n",
       "      <th>Chemical</th>\n",
       "      <th>Combination</th>\n",
       "      <th>Organic</th>\n",
       "    </tr>\n",
       "    <tr>\n",
       "      <th>TrialNumber</th>\n",
       "      <th></th>\n",
       "      <th></th>\n",
       "      <th></th>\n",
       "    </tr>\n",
       "  </thead>\n",
       "  <tbody>\n",
       "    <tr>\n",
       "      <th>1</th>\n",
       "      <td>2.086343</td>\n",
       "      <td>5.447550</td>\n",
       "      <td>5.504518</td>\n",
       "    </tr>\n",
       "    <tr>\n",
       "      <th>2</th>\n",
       "      <td>3.645727</td>\n",
       "      <td>5.782563</td>\n",
       "      <td>7.179734</td>\n",
       "    </tr>\n",
       "    <tr>\n",
       "      <th>3</th>\n",
       "      <td>5.138348</td>\n",
       "      <td>5.283742</td>\n",
       "      <td>3.821368</td>\n",
       "    </tr>\n",
       "    <tr>\n",
       "      <th>4</th>\n",
       "      <td>7.535621</td>\n",
       "      <td>5.328845</td>\n",
       "      <td>5.089437</td>\n",
       "    </tr>\n",
       "    <tr>\n",
       "      <th>5</th>\n",
       "      <td>3.702222</td>\n",
       "      <td>4.130039</td>\n",
       "      <td>5.489022</td>\n",
       "    </tr>\n",
       "  </tbody>\n",
       "</table>\n",
       "</div>"
      ],
      "text/plain": [
       "FertilizerType  Chemical  Combination   Organic\n",
       "TrialNumber                                    \n",
       "1               2.086343     5.447550  5.504518\n",
       "2               3.645727     5.782563  7.179734\n",
       "3               5.138348     5.283742  3.821368\n",
       "4               7.535621     5.328845  5.089437\n",
       "5               3.702222     4.130039  5.489022"
      ]
     },
     "metadata": {},
     "output_type": "display_data"
    }
   ],
   "source": [
    "df_carrots = data[\"carrots\"]\n",
    "df_carrots"
   ]
  },
  {
   "cell_type": "code",
   "execution_count": null,
   "metadata": {},
   "outputs": [
    {
     "data": {
      "text/plain": [
       "<AxesSubplot:>"
      ]
     },
     "metadata": {},
     "output_type": "display_data"
    },
    {
     "data": {
      "image/png": "[encoded data removed]",
      "text/plain": [
       "<Figure size 640x480 with 1 Axes>"
      ]
     },
     "metadata": {},
     "output_type": "display_data"
    }
   ],
   "source": [
    "df_carrots.boxplot(grid=False)"
   ]
  },
  {
   "cell_type": "code",
   "execution_count": null,
   "metadata": {},
   "outputs": [
    {
     "data": {
      "text/html": [
       "<div>\n",
       "<style scoped>\n",
       "    .dataframe tbody tr th:only-of-type {\n",
       "        vertical-align: middle;\n",
       "    }\n",
       "\n",
       "    .dataframe tbody tr th {\n",
       "        vertical-align: top;\n",
       "    }\n",
       "\n",
       "    .dataframe thead th {\n",
       "        text-align: right;\n",
       "    }\n",
       "</style>\n",
       "<table border=\"1\" class=\"dataframe\">\n",
       "  <thead>\n",
       "    <tr style=\"text-align: right;\">\n",
       "      <th></th>\n",
       "      <th>Method</th>\n",
       "      <th>AverageYield</th>\n",
       "    </tr>\n",
       "  </thead>\n",
       "  <tbody>\n",
       "    <tr>\n",
       "      <th>2</th>\n",
       "      <td>Organic</td>\n",
       "      <td>5.416816</td>\n",
       "    </tr>\n",
       "    <tr>\n",
       "      <th>1</th>\n",
       "      <td>Combination</td>\n",
       "      <td>5.194548</td>\n",
       "    </tr>\n",
       "    <tr>\n",
       "      <th>0</th>\n",
       "      <td>Chemical</td>\n",
       "      <td>4.421652</td>\n",
       "    </tr>\n",
       "  </tbody>\n",
       "</table>\n",
       "</div>"
      ],
      "text/plain": [
       "        Method  AverageYield\n",
       "2      Organic      5.416816\n",
       "1  Combination      5.194548\n",
       "0     Chemical      4.421652"
      ]
     },
     "metadata": {},
     "output_type": "display_data"
    }
   ],
   "source": [
    "fertilizers = fertilizer.calculateMeans(df_carrots,sort_order=\"d\")\n",
    "fertilizers"
   ]
  },
  {
   "cell_type": "code",
   "execution_count": null,
   "metadata": {},
   "outputs": [
    {
     "name": "stdout",
     "output_type": "stream",
     "text": [
      "0.678568 0.525784\n"
     ]
    }
   ],
   "source": [
    "f_Carrots, p_Carrots = fertilizer.runANOVA(df_carrots)\n",
    "print(f_Carrots, p_Carrots)"
   ]
  },
  {
   "cell_type": "code",
   "execution_count": null,
   "metadata": {},
   "outputs": [
    {
     "data": {
      "text/html": [
       "<div>\n",
       "<style scoped>\n",
       "    .dataframe tbody tr th:only-of-type {\n",
       "        vertical-align: middle;\n",
       "    }\n",
       "\n",
       "    .dataframe tbody tr th {\n",
       "        vertical-align: top;\n",
       "    }\n",
       "\n",
       "    .dataframe thead th {\n",
       "        text-align: right;\n",
       "    }\n",
       "</style>\n",
       "<table border=\"1\" class=\"dataframe\">\n",
       "  <thead>\n",
       "    <tr style=\"text-align: right;\">\n",
       "      <th></th>\n",
       "      <th>Method 1</th>\n",
       "      <th>Method 2</th>\n",
       "      <th>Mean 1</th>\n",
       "      <th>Mean 2</th>\n",
       "      <th>TestStat</th>\n",
       "      <th>p-value</th>\n",
       "      <th>pValSig</th>\n",
       "    </tr>\n",
       "  </thead>\n",
       "  <tbody>\n",
       "    <tr>\n",
       "      <th>2</th>\n",
       "      <td>Combination</td>\n",
       "      <td>Organic</td>\n",
       "      <td>5.194548</td>\n",
       "      <td>5.416816</td>\n",
       "      <td>-0.366837</td>\n",
       "      <td>0.723254</td>\n",
       "      <td>False</td>\n",
       "    </tr>\n",
       "    <tr>\n",
       "      <th>0</th>\n",
       "      <td>Chemical</td>\n",
       "      <td>Combination</td>\n",
       "      <td>4.421652</td>\n",
       "      <td>5.194548</td>\n",
       "      <td>-0.806837</td>\n",
       "      <td>0.443084</td>\n",
       "      <td>False</td>\n",
       "    </tr>\n",
       "    <tr>\n",
       "      <th>1</th>\n",
       "      <td>Chemical</td>\n",
       "      <td>Organic</td>\n",
       "      <td>4.421652</td>\n",
       "      <td>5.416816</td>\n",
       "      <td>-0.937059</td>\n",
       "      <td>0.376150</td>\n",
       "      <td>False</td>\n",
       "    </tr>\n",
       "  </tbody>\n",
       "</table>\n",
       "</div>"
      ],
      "text/plain": [
       "      Method 1     Method 2    Mean 1    Mean 2  TestStat   p-value  pValSig\n",
       "2  Combination      Organic  5.194548  5.416816 -0.366837  0.723254    False\n",
       "0     Chemical  Combination  4.421652  5.194548 -0.806837  0.443084    False\n",
       "1     Chemical      Organic  4.421652  5.416816 -0.937059  0.376150    False"
      ]
     },
     "metadata": {},
     "output_type": "display_data"
    }
   ],
   "source": [
    "dominance_results = fertilizer.runDominance(df_carrots,\"t-test\")\n",
    "dominance_results"
   ]
  },
  {
   "attachments": {},
   "cell_type": "markdown",
   "metadata": {},
   "source": [
    "## Green Beans"
   ]
  },
  {
   "attachments": {},
   "cell_type": "markdown",
   "metadata": {},
   "source": [
    "Parse out the data for the corn crop and examine it."
   ]
  },
  {
   "cell_type": "code",
   "execution_count": 14,
   "metadata": {},
   "outputs": [
    {
     "data": {
      "text/html": [
       "<div>\n",
       "<style scoped>\n",
       "    .dataframe tbody tr th:only-of-type {\n",
       "        vertical-align: middle;\n",
       "    }\n",
       "\n",
       "    .dataframe tbody tr th {\n",
       "        vertical-align: top;\n",
       "    }\n",
       "\n",
       "    .dataframe thead th {\n",
       "        text-align: right;\n",
       "    }\n",
       "</style>\n",
       "<table border=\"1\" class=\"dataframe\">\n",
       "  <thead>\n",
       "    <tr style=\"text-align: right;\">\n",
       "      <th>FertilizerType</th>\n",
       "      <th>Chemical</th>\n",
       "      <th>Combination</th>\n",
       "      <th>Organic</th>\n",
       "    </tr>\n",
       "    <tr>\n",
       "      <th>TrialNumber</th>\n",
       "      <th></th>\n",
       "      <th></th>\n",
       "      <th></th>\n",
       "    </tr>\n",
       "  </thead>\n",
       "  <tbody>\n",
       "    <tr>\n",
       "      <th>1</th>\n",
       "      <td>4.730823</td>\n",
       "      <td>6.383703</td>\n",
       "      <td>4.557594</td>\n",
       "    </tr>\n",
       "    <tr>\n",
       "      <th>2</th>\n",
       "      <td>5.709780</td>\n",
       "      <td>6.224788</td>\n",
       "      <td>4.934353</td>\n",
       "    </tr>\n",
       "    <tr>\n",
       "      <th>3</th>\n",
       "      <td>6.297001</td>\n",
       "      <td>5.168745</td>\n",
       "      <td>6.888945</td>\n",
       "    </tr>\n",
       "    <tr>\n",
       "      <th>4</th>\n",
       "      <td>4.405094</td>\n",
       "      <td>5.780606</td>\n",
       "      <td>4.809797</td>\n",
       "    </tr>\n",
       "    <tr>\n",
       "      <th>5</th>\n",
       "      <td>4.495572</td>\n",
       "      <td>5.261916</td>\n",
       "      <td>1.356592</td>\n",
       "    </tr>\n",
       "  </tbody>\n",
       "</table>\n",
       "</div>"
      ],
      "text/plain": [
       "FertilizerType  Chemical  Combination   Organic\n",
       "TrialNumber                                    \n",
       "1               4.730823     6.383703  4.557594\n",
       "2               5.709780     6.224788  4.934353\n",
       "3               6.297001     5.168745  6.888945\n",
       "4               4.405094     5.780606  4.809797\n",
       "5               4.495572     5.261916  1.356592"
      ]
     },
     "execution_count": 14,
     "metadata": {},
     "output_type": "execute_result"
    }
   ],
   "source": [
    "df_beans = data[\"green_beans\"]\n",
    "df_beans"
   ]
  },
  {
   "cell_type": "code",
   "execution_count": 15,
   "metadata": {},
   "outputs": [
    {
     "data": {
      "text/plain": [
       "<AxesSubplot:>"
      ]
     },
     "execution_count": 15,
     "metadata": {},
     "output_type": "execute_result"
    },
    {
     "data": {
      "image/png": "[encoded data removed]",
      "text/plain": [
       "<Figure size 640x480 with 1 Axes>"
      ]
     },
     "metadata": {},
     "output_type": "display_data"
    }
   ],
   "source": [
    "df_beans.boxplot(grid=False)"
   ]
  },
  {
   "cell_type": "code",
   "execution_count": 7,
   "metadata": {},
   "outputs": [
    {
     "data": {
      "text/html": [
       "<div>\n",
       "<style scoped>\n",
       "    .dataframe tbody tr th:only-of-type {\n",
       "        vertical-align: middle;\n",
       "    }\n",
       "\n",
       "    .dataframe tbody tr th {\n",
       "        vertical-align: top;\n",
       "    }\n",
       "\n",
       "    .dataframe thead th {\n",
       "        text-align: right;\n",
       "    }\n",
       "</style>\n",
       "<table border=\"1\" class=\"dataframe\">\n",
       "  <thead>\n",
       "    <tr style=\"text-align: right;\">\n",
       "      <th></th>\n",
       "      <th>Method</th>\n",
       "      <th>AverageYield</th>\n",
       "    </tr>\n",
       "  </thead>\n",
       "  <tbody>\n",
       "    <tr>\n",
       "      <th>2</th>\n",
       "      <td>Organic</td>\n",
       "      <td>5.416816</td>\n",
       "    </tr>\n",
       "    <tr>\n",
       "      <th>1</th>\n",
       "      <td>Combination</td>\n",
       "      <td>5.194548</td>\n",
       "    </tr>\n",
       "    <tr>\n",
       "      <th>0</th>\n",
       "      <td>Chemical</td>\n",
       "      <td>4.421652</td>\n",
       "    </tr>\n",
       "  </tbody>\n",
       "</table>\n",
       "</div>"
      ],
      "text/plain": [
       "        Method  AverageYield\n",
       "2      Organic      5.416816\n",
       "1  Combination      5.194548\n",
       "0     Chemical      4.421652"
      ]
     },
     "execution_count": 7,
     "metadata": {},
     "output_type": "execute_result"
    }
   ],
   "source": [
    "fertilizers = fertilizer.calculateMeans(df_beans,sort_order=\"d\")\n",
    "fertilizers"
   ]
  },
  {
   "cell_type": "code",
   "execution_count": 8,
   "metadata": {},
   "outputs": [
    {
     "name": "stdout",
     "output_type": "stream",
     "text": [
      "0.678568 0.525784\n"
     ]
    }
   ],
   "source": [
    "f_Beans, p_Beans = fertilizer.runANOVA(df_beans)\n",
    "print(f_Beans, p_Beans)"
   ]
  },
  {
   "cell_type": "code",
   "execution_count": 9,
   "metadata": {},
   "outputs": [
    {
     "data": {
      "text/html": [
       "<div>\n",
       "<style scoped>\n",
       "    .dataframe tbody tr th:only-of-type {\n",
       "        vertical-align: middle;\n",
       "    }\n",
       "\n",
       "    .dataframe tbody tr th {\n",
       "        vertical-align: top;\n",
       "    }\n",
       "\n",
       "    .dataframe thead th {\n",
       "        text-align: right;\n",
       "    }\n",
       "</style>\n",
       "<table border=\"1\" class=\"dataframe\">\n",
       "  <thead>\n",
       "    <tr style=\"text-align: right;\">\n",
       "      <th></th>\n",
       "      <th>Method 1</th>\n",
       "      <th>Method 2</th>\n",
       "      <th>Mean 1</th>\n",
       "      <th>Mean 2</th>\n",
       "      <th>TestStat</th>\n",
       "      <th>p-value</th>\n",
       "      <th>pValSig</th>\n",
       "    </tr>\n",
       "  </thead>\n",
       "  <tbody>\n",
       "    <tr>\n",
       "      <th>2</th>\n",
       "      <td>Combination</td>\n",
       "      <td>Organic</td>\n",
       "      <td>5.194548</td>\n",
       "      <td>5.416816</td>\n",
       "      <td>-0.366837</td>\n",
       "      <td>0.723254</td>\n",
       "      <td>False</td>\n",
       "    </tr>\n",
       "    <tr>\n",
       "      <th>0</th>\n",
       "      <td>Chemical</td>\n",
       "      <td>Combination</td>\n",
       "      <td>4.421652</td>\n",
       "      <td>5.194548</td>\n",
       "      <td>-0.806837</td>\n",
       "      <td>0.443084</td>\n",
       "      <td>False</td>\n",
       "    </tr>\n",
       "    <tr>\n",
       "      <th>1</th>\n",
       "      <td>Chemical</td>\n",
       "      <td>Organic</td>\n",
       "      <td>4.421652</td>\n",
       "      <td>5.416816</td>\n",
       "      <td>-0.937059</td>\n",
       "      <td>0.376150</td>\n",
       "      <td>False</td>\n",
       "    </tr>\n",
       "  </tbody>\n",
       "</table>\n",
       "</div>"
      ],
      "text/plain": [
       "      Method 1     Method 2    Mean 1    Mean 2  TestStat   p-value  pValSig\n",
       "2  Combination      Organic  5.194548  5.416816 -0.366837  0.723254    False\n",
       "0     Chemical  Combination  4.421652  5.194548 -0.806837  0.443084    False\n",
       "1     Chemical      Organic  4.421652  5.416816 -0.937059  0.376150    False"
      ]
     },
     "execution_count": 9,
     "metadata": {},
     "output_type": "execute_result"
    }
   ],
   "source": [
    "dominance_results = fertilizer.runDominance(df_beans,\"t-test\")\n",
    "dominance_results"
   ]
  }
 ],
 "metadata": {
  "kernelspec": {
   "display_name": "base",
   "language": "python",
   "name": "python3"
  },
  "language_info": {
   "codemirror_mode": {
    "name": "ipython",
    "version": 3
   },
   "file_extension": ".py",
   "mimetype": "text/x-python",
   "name": "python",
   "nbconvert_exporter": "python",
   "pygments_lexer": "ipython3",
   "version": "3.11.7"
  },
  "orig_nbformat": 4
 },
 "nbformat": 4,
 "nbformat_minor": 2
}
