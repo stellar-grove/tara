{
 "cells": [
  {
   "attachments": {},
   "cell_type": "markdown",
   "metadata": {},
   "source": [
    "# Example Form\n",
    "The code below will build an example form"
   ]
  },
  {
   "attachments": {},
   "cell_type": "markdown",
   "metadata": {},
   "source": [
    "<script>\n",
    "document.getElementById(\"myButton\").addEventListener(\"click\", function() {\n",
    "  alert(\"Button clicked!\");\n",
    "});\n",
    "</script>\n",
    "## Example Input\n",
    "> And this is crazy, but here's my number - call me maybe?\n",
    ">\n",
    ">>Block quotin yo ass\n",
    "\n",
    "|`Field Name`|`Response`|\n",
    "|---|---|\n",
    "|Name:|<input type=\"text\" name=\"name\">|\n",
    "|Email:|<input type=\"email\" name=\"email\">|\n",
    "|Message:|<textarea name=\"message\"></textarea><br>|\n",
    "\n",
    "<input id = 'myButton' type=\"submit\" value=\"Submit\"><br><br>\n",
    "___"
   ]
  },
  {
   "attachments": {},
   "cell_type": "markdown",
   "metadata": {},
   "source": [
    "\n",
    "\n"
   ]
  },
  {
   "attachments": {},
   "cell_type": "markdown",
   "metadata": {},
   "source": [
    "*Visit [stellargrove.com](https://www.stellargrove.com/ticondagrova) for more information / in depth analyses.*"
   ]
  },
  {
   "attachments": {},
   "cell_type": "markdown",
   "metadata": {},
   "source": []
  },
  {
   "attachments": {},
   "cell_type": "markdown",
   "metadata": {},
   "source": []
  }
 ],
 "metadata": {
  "language_info": {
   "name": "python"
  },
  "orig_nbformat": 4
 },
 "nbformat": 4,
 "nbformat_minor": 2
}
