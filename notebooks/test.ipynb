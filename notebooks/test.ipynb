{
 "cells": [
  {
   "attachments": {},
   "cell_type": "markdown",
   "metadata": {},
   "source": [
    "# Example Form\n",
    "The code below will build an example form"
   ]
  },
  {
   "cell_type": "code",
   "execution_count": null,
   "metadata": {},
   "outputs": [],
   "source": []
  },
  {
   "cell_type": "code",
   "execution_count": null,
   "metadata": {},
   "outputs": [],
   "source": []
  },
  {
   "attachments": {},
   "cell_type": "markdown",
   "metadata": {},
   "source": [
    "<script>\n",
    "document.getElementById(\"myButton\").addEventListener(\"click\", function() {\n",
    "  alert(\"Button clicked!\");\n",
    "});\n",
    "</script>\n",
    "## Example Input\n",
    "> And this is crazy, but here's my number - call me maybe?\n",
    ">\n",
    ">>Block quotin yo ass\n",
    "\n",
    "|`Field Name`|`Response`|\n",
    "|---|---|\n",
    "|Name:|<input type=\"text\" name=\"name\">|\n",
    "|Email:|<input type=\"email\" name=\"email\">|\n",
    "|Message:|<textarea name=\"message\"></textarea><br>|\n",
    "\n",
    "<input id = 'myButton' type=\"submit\" value=\"Submit\"><br><br>\n",
    "___"
   ]
  },
  {
   "attachments": {},
   "cell_type": "markdown",
   "metadata": {},
   "source": [
    "*Visit [stellargrove.com](https://www.stellargrove.com/ticondagrova) for more information / in depth analyses.*"
   ]
  }
 ],
 "metadata": {
  "kernelspec": {
   "display_name": "base",
   "language": "python",
   "name": "python3"
  },
  "language_info": {
   "name": "python",
   "version": "3.9.13"
  },
  "orig_nbformat": 4
 },
 "nbformat": 4,
 "nbformat_minor": 2
}
